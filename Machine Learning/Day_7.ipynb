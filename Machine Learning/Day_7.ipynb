{
  "nbformat": 4,
  "nbformat_minor": 0,
  "metadata": {
    "colab": {
      "provenance": []
    },
    "kernelspec": {
      "name": "python3",
      "display_name": "Python 3"
    },
    "language_info": {
      "name": "python"
    }
  },
  "cells": [
    {
      "cell_type": "markdown",
      "source": [
        "# Ensamble Learning"
      ],
      "metadata": {
        "id": "kGURlPOkQGLE"
      }
    },
    {
      "cell_type": "markdown",
      "source": [
        "### Example (1) : ML Voting"
      ],
      "metadata": {
        "id": "okGCZpYh8k7X"
      }
    },
    {
      "cell_type": "code",
      "source": [
        "!pip install sklearn\n",
        "!pip install sklearn.datasets"
      ],
      "metadata": {
        "colab": {
          "base_uri": "https://localhost:8080/"
        },
        "id": "qtVgNqGx8sOB",
        "outputId": "dfe09e76-f05d-4982-cd50-a8271d723da9"
      },
      "execution_count": null,
      "outputs": [
        {
          "output_type": "stream",
          "name": "stdout",
          "text": [
            "Collecting sklearn\n",
            "  Downloading sklearn-0.0.post7.tar.gz (3.6 kB)\n",
            "  Preparing metadata (setup.py) ... \u001b[?25l\u001b[?25hdone\n",
            "Building wheels for collected packages: sklearn\n",
            "  Building wheel for sklearn (setup.py) ... \u001b[?25l\u001b[?25hdone\n",
            "  Created wheel for sklearn: filename=sklearn-0.0.post7-py3-none-any.whl size=2950 sha256=38a42d705faff4810b8269d3bbb55669254edaf1a7b02a435627a027dc28f0f7\n",
            "  Stored in directory: /root/.cache/pip/wheels/c8/9c/85/72901eb50bc4bc6e3b2629378d172384ea3dfd19759c77fd2c\n",
            "Successfully built sklearn\n",
            "Installing collected packages: sklearn\n",
            "Successfully installed sklearn-0.0.post7\n",
            "\u001b[31mERROR: Could not find a version that satisfies the requirement sklearn.datasets (from versions: none)\u001b[0m\u001b[31m\n",
            "\u001b[0m\u001b[31mERROR: No matching distribution found for sklearn.datasets\u001b[0m\u001b[31m\n",
            "\u001b[0m"
          ]
        }
      ]
    },
    {
      "cell_type": "code",
      "execution_count": null,
      "metadata": {
        "id": "Xo0F_4BAQCVO"
      },
      "outputs": [],
      "source": [
        "from sklearn.model_selection import train_test_split\n",
        "from sklearn.datasets import make_moons\n",
        "import numpy as np\n",
        "\n",
        "from sklearn.ensemble import VotingClassifier\n",
        "from sklearn.linear_model import LogisticRegression\n",
        "from sklearn.tree import DecisionTreeClassifier\n",
        "\n",
        "from sklearn.metrics import accuracy_score"
      ]
    },
    {
      "cell_type": "code",
      "source": [
        "#Create dataset variables for modelling or training\n",
        "X, y = make_moons(n_samples=100, noise=1)\n",
        "X = X + (np.random.random(size=100 * 2).reshape((100, 2)) ** 2)\n",
        "X_train, X_test, y_train, y_test = train_test_split(X, y)"
      ],
      "metadata": {
        "id": "jCIGeYA19NGW"
      },
      "execution_count": null,
      "outputs": []
    },
    {
      "cell_type": "code",
      "source": [
        "#Set classifiers\n",
        "log_clf = LogisticRegression()\n",
        "dt_clf = DecisionTreeClassifier()\n",
        "\n",
        "voting_clf = VotingClassifier(\n",
        "    estimators=[('lr', log_clf), ('dt', dt_clf)],\n",
        "    voting='hard')"
      ],
      "metadata": {
        "id": "sABFycaY9Wie"
      },
      "execution_count": null,
      "outputs": []
    },
    {
      "cell_type": "code",
      "source": [
        "#Fit the model\n",
        "voting_clf.fit(X_train, y_train)"
      ],
      "metadata": {
        "colab": {
          "base_uri": "https://localhost:8080/",
          "height": 110
        },
        "id": "fVaE_zhA9iLG",
        "outputId": "49218df5-2389-4f5e-a045-cdb9cf4863d2"
      },
      "execution_count": null,
      "outputs": [
        {
          "output_type": "execute_result",
          "data": {
            "text/plain": [
              "VotingClassifier(estimators=[('lr', LogisticRegression()),\n",
              "                             ('dt', DecisionTreeClassifier())])"
            ],
            "text/html": [
              "<style>#sk-container-id-1 {color: black;background-color: white;}#sk-container-id-1 pre{padding: 0;}#sk-container-id-1 div.sk-toggleable {background-color: white;}#sk-container-id-1 label.sk-toggleable__label {cursor: pointer;display: block;width: 100%;margin-bottom: 0;padding: 0.3em;box-sizing: border-box;text-align: center;}#sk-container-id-1 label.sk-toggleable__label-arrow:before {content: \"▸\";float: left;margin-right: 0.25em;color: #696969;}#sk-container-id-1 label.sk-toggleable__label-arrow:hover:before {color: black;}#sk-container-id-1 div.sk-estimator:hover label.sk-toggleable__label-arrow:before {color: black;}#sk-container-id-1 div.sk-toggleable__content {max-height: 0;max-width: 0;overflow: hidden;text-align: left;background-color: #f0f8ff;}#sk-container-id-1 div.sk-toggleable__content pre {margin: 0.2em;color: black;border-radius: 0.25em;background-color: #f0f8ff;}#sk-container-id-1 input.sk-toggleable__control:checked~div.sk-toggleable__content {max-height: 200px;max-width: 100%;overflow: auto;}#sk-container-id-1 input.sk-toggleable__control:checked~label.sk-toggleable__label-arrow:before {content: \"▾\";}#sk-container-id-1 div.sk-estimator input.sk-toggleable__control:checked~label.sk-toggleable__label {background-color: #d4ebff;}#sk-container-id-1 div.sk-label input.sk-toggleable__control:checked~label.sk-toggleable__label {background-color: #d4ebff;}#sk-container-id-1 input.sk-hidden--visually {border: 0;clip: rect(1px 1px 1px 1px);clip: rect(1px, 1px, 1px, 1px);height: 1px;margin: -1px;overflow: hidden;padding: 0;position: absolute;width: 1px;}#sk-container-id-1 div.sk-estimator {font-family: monospace;background-color: #f0f8ff;border: 1px dotted black;border-radius: 0.25em;box-sizing: border-box;margin-bottom: 0.5em;}#sk-container-id-1 div.sk-estimator:hover {background-color: #d4ebff;}#sk-container-id-1 div.sk-parallel-item::after {content: \"\";width: 100%;border-bottom: 1px solid gray;flex-grow: 1;}#sk-container-id-1 div.sk-label:hover label.sk-toggleable__label {background-color: #d4ebff;}#sk-container-id-1 div.sk-serial::before {content: \"\";position: absolute;border-left: 1px solid gray;box-sizing: border-box;top: 0;bottom: 0;left: 50%;z-index: 0;}#sk-container-id-1 div.sk-serial {display: flex;flex-direction: column;align-items: center;background-color: white;padding-right: 0.2em;padding-left: 0.2em;position: relative;}#sk-container-id-1 div.sk-item {position: relative;z-index: 1;}#sk-container-id-1 div.sk-parallel {display: flex;align-items: stretch;justify-content: center;background-color: white;position: relative;}#sk-container-id-1 div.sk-item::before, #sk-container-id-1 div.sk-parallel-item::before {content: \"\";position: absolute;border-left: 1px solid gray;box-sizing: border-box;top: 0;bottom: 0;left: 50%;z-index: -1;}#sk-container-id-1 div.sk-parallel-item {display: flex;flex-direction: column;z-index: 1;position: relative;background-color: white;}#sk-container-id-1 div.sk-parallel-item:first-child::after {align-self: flex-end;width: 50%;}#sk-container-id-1 div.sk-parallel-item:last-child::after {align-self: flex-start;width: 50%;}#sk-container-id-1 div.sk-parallel-item:only-child::after {width: 0;}#sk-container-id-1 div.sk-dashed-wrapped {border: 1px dashed gray;margin: 0 0.4em 0.5em 0.4em;box-sizing: border-box;padding-bottom: 0.4em;background-color: white;}#sk-container-id-1 div.sk-label label {font-family: monospace;font-weight: bold;display: inline-block;line-height: 1.2em;}#sk-container-id-1 div.sk-label-container {text-align: center;}#sk-container-id-1 div.sk-container {/* jupyter's `normalize.less` sets `[hidden] { display: none; }` but bootstrap.min.css set `[hidden] { display: none !important; }` so we also need the `!important` here to be able to override the default hidden behavior on the sphinx rendered scikit-learn.org. See: https://github.com/scikit-learn/scikit-learn/issues/21755 */display: inline-block !important;position: relative;}#sk-container-id-1 div.sk-text-repr-fallback {display: none;}</style><div id=\"sk-container-id-1\" class=\"sk-top-container\"><div class=\"sk-text-repr-fallback\"><pre>VotingClassifier(estimators=[(&#x27;lr&#x27;, LogisticRegression()),\n",
              "                             (&#x27;dt&#x27;, DecisionTreeClassifier())])</pre><b>In a Jupyter environment, please rerun this cell to show the HTML representation or trust the notebook. <br />On GitHub, the HTML representation is unable to render, please try loading this page with nbviewer.org.</b></div><div class=\"sk-container\" hidden><div class=\"sk-item sk-dashed-wrapped\"><div class=\"sk-label-container\"><div class=\"sk-label sk-toggleable\"><input class=\"sk-toggleable__control sk-hidden--visually\" id=\"sk-estimator-id-1\" type=\"checkbox\" ><label for=\"sk-estimator-id-1\" class=\"sk-toggleable__label sk-toggleable__label-arrow\">VotingClassifier</label><div class=\"sk-toggleable__content\"><pre>VotingClassifier(estimators=[(&#x27;lr&#x27;, LogisticRegression()),\n",
              "                             (&#x27;dt&#x27;, DecisionTreeClassifier())])</pre></div></div></div><div class=\"sk-parallel\"><div class=\"sk-parallel-item\"><div class=\"sk-item\"><div class=\"sk-label-container\"><div class=\"sk-label sk-toggleable\"><label>lr</label></div></div><div class=\"sk-serial\"><div class=\"sk-item\"><div class=\"sk-estimator sk-toggleable\"><input class=\"sk-toggleable__control sk-hidden--visually\" id=\"sk-estimator-id-2\" type=\"checkbox\" ><label for=\"sk-estimator-id-2\" class=\"sk-toggleable__label sk-toggleable__label-arrow\">LogisticRegression</label><div class=\"sk-toggleable__content\"><pre>LogisticRegression()</pre></div></div></div></div></div></div><div class=\"sk-parallel-item\"><div class=\"sk-item\"><div class=\"sk-label-container\"><div class=\"sk-label sk-toggleable\"><label>dt</label></div></div><div class=\"sk-serial\"><div class=\"sk-item\"><div class=\"sk-estimator sk-toggleable\"><input class=\"sk-toggleable__control sk-hidden--visually\" id=\"sk-estimator-id-3\" type=\"checkbox\" ><label for=\"sk-estimator-id-3\" class=\"sk-toggleable__label sk-toggleable__label-arrow\">DecisionTreeClassifier</label><div class=\"sk-toggleable__content\"><pre>DecisionTreeClassifier()</pre></div></div></div></div></div></div></div></div></div></div>"
            ]
          },
          "metadata": {},
          "execution_count": 7
        }
      ]
    },
    {
      "cell_type": "code",
      "source": [
        "#Figuring the accuracy score of each classifier\n",
        "for clf in (log_clf, dt_clf,voting_clf):\n",
        "    clf.fit(X_train, y_train)\n",
        "    y_pred = clf.predict(X_test)\n",
        "    print(clf.__class__.__name__, accuracy_score(y_test, y_pred))"
      ],
      "metadata": {
        "colab": {
          "base_uri": "https://localhost:8080/"
        },
        "id": "7yxSKrfH9n0m",
        "outputId": "d809f231-9b21-4115-887e-0595e1f8a103"
      },
      "execution_count": null,
      "outputs": [
        {
          "output_type": "stream",
          "name": "stdout",
          "text": [
            "LogisticRegression 0.68\n",
            "DecisionTreeClassifier 0.52\n",
            "VotingClassifier 0.68\n"
          ]
        }
      ]
    },
    {
      "cell_type": "markdown",
      "source": [
        "### Example (2) : Random Forests"
      ],
      "metadata": {
        "id": "Z_lUeNNF-Ait"
      }
    },
    {
      "cell_type": "code",
      "source": [
        "#Import libraries\n",
        "import pandas as pd\n",
        "from sklearn.compose import ColumnTransformer\n",
        "from sklearn.preprocessing import LabelEncoder\n",
        "from sklearn.preprocessing import OrdinalEncoder\n",
        "from sklearn.base import BaseEstimator,TransformerMixin\n",
        "import re\n",
        "from sklearn.ensemble import RandomForestClassifier\n",
        "from sklearn import tree\n",
        "from sklearn.model_selection import train_test_split\n",
        "from sklearn.ensemble import GradientBoostingRegressor"
      ],
      "metadata": {
        "id": "3gb4vlkR9pvm"
      },
      "execution_count": null,
      "outputs": []
    },
    {
      "cell_type": "code",
      "source": [
        "#Load Dataset\n",
        "sleep_data = pd.read_csv(\"./Sleep_health_and_lifestyle_dataset.csv\")"
      ],
      "metadata": {
        "id": "s0txhyXQ-J2l"
      },
      "execution_count": 12,
      "outputs": []
    },
    {
      "cell_type": "code",
      "source": [
        "#Display data\n",
        "sleep_data.head()"
      ],
      "metadata": {
        "id": "4aWPx_OQ-RXF",
        "colab": {
          "base_uri": "https://localhost:8080/",
          "height": 357
        },
        "outputId": "2106fa4d-00b6-4563-cdb3-4b0e210c89c9"
      },
      "execution_count": 13,
      "outputs": [
        {
          "output_type": "execute_result",
          "data": {
            "text/plain": [
              "   Person ID Gender  Age            Occupation  Sleep Duration  \\\n",
              "0          1   Male   27     Software Engineer             6.1   \n",
              "1          2   Male   28                Doctor             6.2   \n",
              "2          3   Male   28                Doctor             6.2   \n",
              "3          4   Male   28  Sales Representative             5.9   \n",
              "4          5   Male   28  Sales Representative             5.9   \n",
              "\n",
              "   Quality of Sleep  Physical Activity Level  Stress Level BMI Category  \\\n",
              "0                 6                       42             6   Overweight   \n",
              "1                 6                       60             8       Normal   \n",
              "2                 6                       60             8       Normal   \n",
              "3                 4                       30             8        Obese   \n",
              "4                 4                       30             8        Obese   \n",
              "\n",
              "  Blood Pressure  Heart Rate  Daily Steps Sleep Disorder  \n",
              "0         126/83          77         4200           None  \n",
              "1         125/80          75        10000           None  \n",
              "2         125/80          75        10000           None  \n",
              "3         140/90          85         3000    Sleep Apnea  \n",
              "4         140/90          85         3000    Sleep Apnea  "
            ],
            "text/html": [
              "\n",
              "\n",
              "  <div id=\"df-3e38c596-8985-46bf-b0a7-fc4fc2bdc4de\">\n",
              "    <div class=\"colab-df-container\">\n",
              "      <div>\n",
              "<style scoped>\n",
              "    .dataframe tbody tr th:only-of-type {\n",
              "        vertical-align: middle;\n",
              "    }\n",
              "\n",
              "    .dataframe tbody tr th {\n",
              "        vertical-align: top;\n",
              "    }\n",
              "\n",
              "    .dataframe thead th {\n",
              "        text-align: right;\n",
              "    }\n",
              "</style>\n",
              "<table border=\"1\" class=\"dataframe\">\n",
              "  <thead>\n",
              "    <tr style=\"text-align: right;\">\n",
              "      <th></th>\n",
              "      <th>Person ID</th>\n",
              "      <th>Gender</th>\n",
              "      <th>Age</th>\n",
              "      <th>Occupation</th>\n",
              "      <th>Sleep Duration</th>\n",
              "      <th>Quality of Sleep</th>\n",
              "      <th>Physical Activity Level</th>\n",
              "      <th>Stress Level</th>\n",
              "      <th>BMI Category</th>\n",
              "      <th>Blood Pressure</th>\n",
              "      <th>Heart Rate</th>\n",
              "      <th>Daily Steps</th>\n",
              "      <th>Sleep Disorder</th>\n",
              "    </tr>\n",
              "  </thead>\n",
              "  <tbody>\n",
              "    <tr>\n",
              "      <th>0</th>\n",
              "      <td>1</td>\n",
              "      <td>Male</td>\n",
              "      <td>27</td>\n",
              "      <td>Software Engineer</td>\n",
              "      <td>6.1</td>\n",
              "      <td>6</td>\n",
              "      <td>42</td>\n",
              "      <td>6</td>\n",
              "      <td>Overweight</td>\n",
              "      <td>126/83</td>\n",
              "      <td>77</td>\n",
              "      <td>4200</td>\n",
              "      <td>None</td>\n",
              "    </tr>\n",
              "    <tr>\n",
              "      <th>1</th>\n",
              "      <td>2</td>\n",
              "      <td>Male</td>\n",
              "      <td>28</td>\n",
              "      <td>Doctor</td>\n",
              "      <td>6.2</td>\n",
              "      <td>6</td>\n",
              "      <td>60</td>\n",
              "      <td>8</td>\n",
              "      <td>Normal</td>\n",
              "      <td>125/80</td>\n",
              "      <td>75</td>\n",
              "      <td>10000</td>\n",
              "      <td>None</td>\n",
              "    </tr>\n",
              "    <tr>\n",
              "      <th>2</th>\n",
              "      <td>3</td>\n",
              "      <td>Male</td>\n",
              "      <td>28</td>\n",
              "      <td>Doctor</td>\n",
              "      <td>6.2</td>\n",
              "      <td>6</td>\n",
              "      <td>60</td>\n",
              "      <td>8</td>\n",
              "      <td>Normal</td>\n",
              "      <td>125/80</td>\n",
              "      <td>75</td>\n",
              "      <td>10000</td>\n",
              "      <td>None</td>\n",
              "    </tr>\n",
              "    <tr>\n",
              "      <th>3</th>\n",
              "      <td>4</td>\n",
              "      <td>Male</td>\n",
              "      <td>28</td>\n",
              "      <td>Sales Representative</td>\n",
              "      <td>5.9</td>\n",
              "      <td>4</td>\n",
              "      <td>30</td>\n",
              "      <td>8</td>\n",
              "      <td>Obese</td>\n",
              "      <td>140/90</td>\n",
              "      <td>85</td>\n",
              "      <td>3000</td>\n",
              "      <td>Sleep Apnea</td>\n",
              "    </tr>\n",
              "    <tr>\n",
              "      <th>4</th>\n",
              "      <td>5</td>\n",
              "      <td>Male</td>\n",
              "      <td>28</td>\n",
              "      <td>Sales Representative</td>\n",
              "      <td>5.9</td>\n",
              "      <td>4</td>\n",
              "      <td>30</td>\n",
              "      <td>8</td>\n",
              "      <td>Obese</td>\n",
              "      <td>140/90</td>\n",
              "      <td>85</td>\n",
              "      <td>3000</td>\n",
              "      <td>Sleep Apnea</td>\n",
              "    </tr>\n",
              "  </tbody>\n",
              "</table>\n",
              "</div>\n",
              "      <button class=\"colab-df-convert\" onclick=\"convertToInteractive('df-3e38c596-8985-46bf-b0a7-fc4fc2bdc4de')\"\n",
              "              title=\"Convert this dataframe to an interactive table.\"\n",
              "              style=\"display:none;\">\n",
              "\n",
              "  <svg xmlns=\"http://www.w3.org/2000/svg\" height=\"24px\"viewBox=\"0 0 24 24\"\n",
              "       width=\"24px\">\n",
              "    <path d=\"M0 0h24v24H0V0z\" fill=\"none\"/>\n",
              "    <path d=\"M18.56 5.44l.94 2.06.94-2.06 2.06-.94-2.06-.94-.94-2.06-.94 2.06-2.06.94zm-11 1L8.5 8.5l.94-2.06 2.06-.94-2.06-.94L8.5 2.5l-.94 2.06-2.06.94zm10 10l.94 2.06.94-2.06 2.06-.94-2.06-.94-.94-2.06-.94 2.06-2.06.94z\"/><path d=\"M17.41 7.96l-1.37-1.37c-.4-.4-.92-.59-1.43-.59-.52 0-1.04.2-1.43.59L10.3 9.45l-7.72 7.72c-.78.78-.78 2.05 0 2.83L4 21.41c.39.39.9.59 1.41.59.51 0 1.02-.2 1.41-.59l7.78-7.78 2.81-2.81c.8-.78.8-2.07 0-2.86zM5.41 20L4 18.59l7.72-7.72 1.47 1.35L5.41 20z\"/>\n",
              "  </svg>\n",
              "      </button>\n",
              "\n",
              "\n",
              "\n",
              "    <div id=\"df-8287620c-3b6c-44db-b44a-adec2bd86e51\">\n",
              "      <button class=\"colab-df-quickchart\" onclick=\"quickchart('df-8287620c-3b6c-44db-b44a-adec2bd86e51')\"\n",
              "              title=\"Suggest charts.\"\n",
              "              style=\"display:none;\">\n",
              "\n",
              "<svg xmlns=\"http://www.w3.org/2000/svg\" height=\"24px\"viewBox=\"0 0 24 24\"\n",
              "     width=\"24px\">\n",
              "    <g>\n",
              "        <path d=\"M19 3H5c-1.1 0-2 .9-2 2v14c0 1.1.9 2 2 2h14c1.1 0 2-.9 2-2V5c0-1.1-.9-2-2-2zM9 17H7v-7h2v7zm4 0h-2V7h2v10zm4 0h-2v-4h2v4z\"/>\n",
              "    </g>\n",
              "</svg>\n",
              "      </button>\n",
              "    </div>\n",
              "\n",
              "<style>\n",
              "  .colab-df-quickchart {\n",
              "    background-color: #E8F0FE;\n",
              "    border: none;\n",
              "    border-radius: 50%;\n",
              "    cursor: pointer;\n",
              "    display: none;\n",
              "    fill: #1967D2;\n",
              "    height: 32px;\n",
              "    padding: 0 0 0 0;\n",
              "    width: 32px;\n",
              "  }\n",
              "\n",
              "  .colab-df-quickchart:hover {\n",
              "    background-color: #E2EBFA;\n",
              "    box-shadow: 0px 1px 2px rgba(60, 64, 67, 0.3), 0px 1px 3px 1px rgba(60, 64, 67, 0.15);\n",
              "    fill: #174EA6;\n",
              "  }\n",
              "\n",
              "  [theme=dark] .colab-df-quickchart {\n",
              "    background-color: #3B4455;\n",
              "    fill: #D2E3FC;\n",
              "  }\n",
              "\n",
              "  [theme=dark] .colab-df-quickchart:hover {\n",
              "    background-color: #434B5C;\n",
              "    box-shadow: 0px 1px 3px 1px rgba(0, 0, 0, 0.15);\n",
              "    filter: drop-shadow(0px 1px 2px rgba(0, 0, 0, 0.3));\n",
              "    fill: #FFFFFF;\n",
              "  }\n",
              "</style>\n",
              "\n",
              "    <script>\n",
              "      async function quickchart(key) {\n",
              "        const containerElement = document.querySelector('#' + key);\n",
              "        const charts = await google.colab.kernel.invokeFunction(\n",
              "            'suggestCharts', [key], {});\n",
              "      }\n",
              "    </script>\n",
              "\n",
              "      <script>\n",
              "\n",
              "function displayQuickchartButton(domScope) {\n",
              "  let quickchartButtonEl =\n",
              "    domScope.querySelector('#df-8287620c-3b6c-44db-b44a-adec2bd86e51 button.colab-df-quickchart');\n",
              "  quickchartButtonEl.style.display =\n",
              "    google.colab.kernel.accessAllowed ? 'block' : 'none';\n",
              "}\n",
              "\n",
              "        displayQuickchartButton(document);\n",
              "      </script>\n",
              "      <style>\n",
              "    .colab-df-container {\n",
              "      display:flex;\n",
              "      flex-wrap:wrap;\n",
              "      gap: 12px;\n",
              "    }\n",
              "\n",
              "    .colab-df-convert {\n",
              "      background-color: #E8F0FE;\n",
              "      border: none;\n",
              "      border-radius: 50%;\n",
              "      cursor: pointer;\n",
              "      display: none;\n",
              "      fill: #1967D2;\n",
              "      height: 32px;\n",
              "      padding: 0 0 0 0;\n",
              "      width: 32px;\n",
              "    }\n",
              "\n",
              "    .colab-df-convert:hover {\n",
              "      background-color: #E2EBFA;\n",
              "      box-shadow: 0px 1px 2px rgba(60, 64, 67, 0.3), 0px 1px 3px 1px rgba(60, 64, 67, 0.15);\n",
              "      fill: #174EA6;\n",
              "    }\n",
              "\n",
              "    [theme=dark] .colab-df-convert {\n",
              "      background-color: #3B4455;\n",
              "      fill: #D2E3FC;\n",
              "    }\n",
              "\n",
              "    [theme=dark] .colab-df-convert:hover {\n",
              "      background-color: #434B5C;\n",
              "      box-shadow: 0px 1px 3px 1px rgba(0, 0, 0, 0.15);\n",
              "      filter: drop-shadow(0px 1px 2px rgba(0, 0, 0, 0.3));\n",
              "      fill: #FFFFFF;\n",
              "    }\n",
              "  </style>\n",
              "\n",
              "      <script>\n",
              "        const buttonEl =\n",
              "          document.querySelector('#df-3e38c596-8985-46bf-b0a7-fc4fc2bdc4de button.colab-df-convert');\n",
              "        buttonEl.style.display =\n",
              "          google.colab.kernel.accessAllowed ? 'block' : 'none';\n",
              "\n",
              "        async function convertToInteractive(key) {\n",
              "          const element = document.querySelector('#df-3e38c596-8985-46bf-b0a7-fc4fc2bdc4de');\n",
              "          const dataTable =\n",
              "            await google.colab.kernel.invokeFunction('convertToInteractive',\n",
              "                                                     [key], {});\n",
              "          if (!dataTable) return;\n",
              "\n",
              "          const docLinkHtml = 'Like what you see? Visit the ' +\n",
              "            '<a target=\"_blank\" href=https://colab.research.google.com/notebooks/data_table.ipynb>data table notebook</a>'\n",
              "            + ' to learn more about interactive tables.';\n",
              "          element.innerHTML = '';\n",
              "          dataTable['output_type'] = 'display_data';\n",
              "          await google.colab.output.renderOutput(dataTable, element);\n",
              "          const docLink = document.createElement('div');\n",
              "          docLink.innerHTML = docLinkHtml;\n",
              "          element.appendChild(docLink);\n",
              "        }\n",
              "      </script>\n",
              "    </div>\n",
              "  </div>\n"
            ]
          },
          "metadata": {},
          "execution_count": 13
        }
      ]
    },
    {
      "cell_type": "code",
      "source": [
        "#Dropping unneeded columns\n",
        "sleep_data = sleep_data.drop([\"Person ID\"], axis = 1)"
      ],
      "metadata": {
        "id": "KB4mPcNg-hbw"
      },
      "execution_count": 15,
      "outputs": []
    },
    {
      "cell_type": "code",
      "source": [
        "#Findig Unique value in a certain column\n",
        "sleep_data[\"Sleep Disorder\"].unique()"
      ],
      "metadata": {
        "colab": {
          "base_uri": "https://localhost:8080/"
        },
        "id": "f_g2FjqX-u8U",
        "outputId": "274ed4b7-e228-4fb7-abdc-974c633dfde0"
      },
      "execution_count": 16,
      "outputs": [
        {
          "output_type": "execute_result",
          "data": {
            "text/plain": [
              "array(['None', 'Sleep Apnea', 'Insomnia'], dtype=object)"
            ]
          },
          "metadata": {},
          "execution_count": 16
        }
      ]
    },
    {
      "cell_type": "code",
      "source": [
        "#Find out if there are any null values\n",
        "sleep_data.isna().any()"
      ],
      "metadata": {
        "colab": {
          "base_uri": "https://localhost:8080/"
        },
        "id": "1i-rBugy-33s",
        "outputId": "9e47731e-8f50-440e-a299-cd0fc39b8860"
      },
      "execution_count": 17,
      "outputs": [
        {
          "output_type": "execute_result",
          "data": {
            "text/plain": [
              "Gender                     False\n",
              "Age                        False\n",
              "Occupation                 False\n",
              "Sleep Duration             False\n",
              "Quality of Sleep           False\n",
              "Physical Activity Level    False\n",
              "Stress Level               False\n",
              "BMI Category               False\n",
              "Blood Pressure             False\n",
              "Heart Rate                 False\n",
              "Daily Steps                False\n",
              "Sleep Disorder             False\n",
              "dtype: bool"
            ]
          },
          "metadata": {},
          "execution_count": 17
        }
      ]
    },
    {
      "cell_type": "code",
      "source": [
        "sleep_data.columns"
      ],
      "metadata": {
        "colab": {
          "base_uri": "https://localhost:8080/"
        },
        "id": "FFyR_gck-_w8",
        "outputId": "6041ae9f-1de3-4a1c-ba0b-72c42b74738c"
      },
      "execution_count": 18,
      "outputs": [
        {
          "output_type": "execute_result",
          "data": {
            "text/plain": [
              "Index(['Gender', 'Age', 'Occupation', 'Sleep Duration', 'Quality of Sleep',\n",
              "       'Physical Activity Level', 'Stress Level', 'BMI Category',\n",
              "       'Blood Pressure', 'Heart Rate', 'Daily Steps', 'Sleep Disorder'],\n",
              "      dtype='object')"
            ]
          },
          "metadata": {},
          "execution_count": 18
        }
      ]
    },
    {
      "cell_type": "code",
      "source": [
        "#Determinig the dependent and independent variable\n",
        "X = sleep_data[[x for x in sleep_data.columns if x != \"Sleep Disorder\"]]\n",
        "y = sleep_data[\"Sleep Disorder\"]\n",
        "\n",
        "X.loc[:, [0, 1]] = X.apply(lambda x: [float(x) for x in re.findall(r\"(\\d{2,3})\\/(\\d{2,3})\", x[\"Blood Pressure\"])[0]],\n",
        "        axis=1, result_type=\"expand\")"
      ],
      "metadata": {
        "colab": {
          "base_uri": "https://localhost:8080/"
        },
        "id": "eJcw3lEs_MWE",
        "outputId": "866f5ba7-c1ae-49d7-a73d-59dbfc713ec1"
      },
      "execution_count": 20,
      "outputs": [
        {
          "output_type": "stream",
          "name": "stderr",
          "text": [
            "<ipython-input-20-1ac6a276e972>:5: SettingWithCopyWarning: \n",
            "A value is trying to be set on a copy of a slice from a DataFrame.\n",
            "Try using .loc[row_indexer,col_indexer] = value instead\n",
            "\n",
            "See the caveats in the documentation: https://pandas.pydata.org/pandas-docs/stable/user_guide/indexing.html#returning-a-view-versus-a-copy\n",
            "  X.loc[:, [0, 1]] = X.apply(lambda x: [float(x) for x in re.findall(r\"(\\d{2,3})\\/(\\d{2,3})\", x[\"Blood Pressure\"])[0]],\n"
          ]
        }
      ]
    },
    {
      "cell_type": "code",
      "source": [
        "X = X.drop([\"Blood Pressure\", \"Person ID\"], axis=1, errors=\"ignore\")\n",
        "X = X.rename(columns={0: \"SYS\", 1: \"DIA\"})\n",
        "int_col = [x for x in X.select_dtypes(int)]\n",
        "X[int_col] = X[int_col].applymap(lambda x: float(x))"
      ],
      "metadata": {
        "id": "jJLuSt4g_fUr"
      },
      "execution_count": 21,
      "outputs": []
    },
    {
      "cell_type": "code",
      "source": [
        "X.head()"
      ],
      "metadata": {
        "colab": {
          "base_uri": "https://localhost:8080/",
          "height": 337
        },
        "id": "E3Kpp2kj_nqt",
        "outputId": "fd6a38ab-0fd3-4eee-c893-51adc20f95e0"
      },
      "execution_count": 22,
      "outputs": [
        {
          "output_type": "execute_result",
          "data": {
            "text/plain": [
              "  Gender   Age            Occupation  Sleep Duration  Quality of Sleep  \\\n",
              "0   Male  27.0     Software Engineer             6.1               6.0   \n",
              "1   Male  28.0                Doctor             6.2               6.0   \n",
              "2   Male  28.0                Doctor             6.2               6.0   \n",
              "3   Male  28.0  Sales Representative             5.9               4.0   \n",
              "4   Male  28.0  Sales Representative             5.9               4.0   \n",
              "\n",
              "   Physical Activity Level  Stress Level BMI Category  Heart Rate  \\\n",
              "0                     42.0           6.0   Overweight        77.0   \n",
              "1                     60.0           8.0       Normal        75.0   \n",
              "2                     60.0           8.0       Normal        75.0   \n",
              "3                     30.0           8.0        Obese        85.0   \n",
              "4                     30.0           8.0        Obese        85.0   \n",
              "\n",
              "   Daily Steps    SYS   DIA  \n",
              "0       4200.0  126.0  83.0  \n",
              "1      10000.0  125.0  80.0  \n",
              "2      10000.0  125.0  80.0  \n",
              "3       3000.0  140.0  90.0  \n",
              "4       3000.0  140.0  90.0  "
            ],
            "text/html": [
              "\n",
              "\n",
              "  <div id=\"df-213fcb14-b2e0-4955-afc0-2c96a7bc7018\">\n",
              "    <div class=\"colab-df-container\">\n",
              "      <div>\n",
              "<style scoped>\n",
              "    .dataframe tbody tr th:only-of-type {\n",
              "        vertical-align: middle;\n",
              "    }\n",
              "\n",
              "    .dataframe tbody tr th {\n",
              "        vertical-align: top;\n",
              "    }\n",
              "\n",
              "    .dataframe thead th {\n",
              "        text-align: right;\n",
              "    }\n",
              "</style>\n",
              "<table border=\"1\" class=\"dataframe\">\n",
              "  <thead>\n",
              "    <tr style=\"text-align: right;\">\n",
              "      <th></th>\n",
              "      <th>Gender</th>\n",
              "      <th>Age</th>\n",
              "      <th>Occupation</th>\n",
              "      <th>Sleep Duration</th>\n",
              "      <th>Quality of Sleep</th>\n",
              "      <th>Physical Activity Level</th>\n",
              "      <th>Stress Level</th>\n",
              "      <th>BMI Category</th>\n",
              "      <th>Heart Rate</th>\n",
              "      <th>Daily Steps</th>\n",
              "      <th>SYS</th>\n",
              "      <th>DIA</th>\n",
              "    </tr>\n",
              "  </thead>\n",
              "  <tbody>\n",
              "    <tr>\n",
              "      <th>0</th>\n",
              "      <td>Male</td>\n",
              "      <td>27.0</td>\n",
              "      <td>Software Engineer</td>\n",
              "      <td>6.1</td>\n",
              "      <td>6.0</td>\n",
              "      <td>42.0</td>\n",
              "      <td>6.0</td>\n",
              "      <td>Overweight</td>\n",
              "      <td>77.0</td>\n",
              "      <td>4200.0</td>\n",
              "      <td>126.0</td>\n",
              "      <td>83.0</td>\n",
              "    </tr>\n",
              "    <tr>\n",
              "      <th>1</th>\n",
              "      <td>Male</td>\n",
              "      <td>28.0</td>\n",
              "      <td>Doctor</td>\n",
              "      <td>6.2</td>\n",
              "      <td>6.0</td>\n",
              "      <td>60.0</td>\n",
              "      <td>8.0</td>\n",
              "      <td>Normal</td>\n",
              "      <td>75.0</td>\n",
              "      <td>10000.0</td>\n",
              "      <td>125.0</td>\n",
              "      <td>80.0</td>\n",
              "    </tr>\n",
              "    <tr>\n",
              "      <th>2</th>\n",
              "      <td>Male</td>\n",
              "      <td>28.0</td>\n",
              "      <td>Doctor</td>\n",
              "      <td>6.2</td>\n",
              "      <td>6.0</td>\n",
              "      <td>60.0</td>\n",
              "      <td>8.0</td>\n",
              "      <td>Normal</td>\n",
              "      <td>75.0</td>\n",
              "      <td>10000.0</td>\n",
              "      <td>125.0</td>\n",
              "      <td>80.0</td>\n",
              "    </tr>\n",
              "    <tr>\n",
              "      <th>3</th>\n",
              "      <td>Male</td>\n",
              "      <td>28.0</td>\n",
              "      <td>Sales Representative</td>\n",
              "      <td>5.9</td>\n",
              "      <td>4.0</td>\n",
              "      <td>30.0</td>\n",
              "      <td>8.0</td>\n",
              "      <td>Obese</td>\n",
              "      <td>85.0</td>\n",
              "      <td>3000.0</td>\n",
              "      <td>140.0</td>\n",
              "      <td>90.0</td>\n",
              "    </tr>\n",
              "    <tr>\n",
              "      <th>4</th>\n",
              "      <td>Male</td>\n",
              "      <td>28.0</td>\n",
              "      <td>Sales Representative</td>\n",
              "      <td>5.9</td>\n",
              "      <td>4.0</td>\n",
              "      <td>30.0</td>\n",
              "      <td>8.0</td>\n",
              "      <td>Obese</td>\n",
              "      <td>85.0</td>\n",
              "      <td>3000.0</td>\n",
              "      <td>140.0</td>\n",
              "      <td>90.0</td>\n",
              "    </tr>\n",
              "  </tbody>\n",
              "</table>\n",
              "</div>\n",
              "      <button class=\"colab-df-convert\" onclick=\"convertToInteractive('df-213fcb14-b2e0-4955-afc0-2c96a7bc7018')\"\n",
              "              title=\"Convert this dataframe to an interactive table.\"\n",
              "              style=\"display:none;\">\n",
              "\n",
              "  <svg xmlns=\"http://www.w3.org/2000/svg\" height=\"24px\"viewBox=\"0 0 24 24\"\n",
              "       width=\"24px\">\n",
              "    <path d=\"M0 0h24v24H0V0z\" fill=\"none\"/>\n",
              "    <path d=\"M18.56 5.44l.94 2.06.94-2.06 2.06-.94-2.06-.94-.94-2.06-.94 2.06-2.06.94zm-11 1L8.5 8.5l.94-2.06 2.06-.94-2.06-.94L8.5 2.5l-.94 2.06-2.06.94zm10 10l.94 2.06.94-2.06 2.06-.94-2.06-.94-.94-2.06-.94 2.06-2.06.94z\"/><path d=\"M17.41 7.96l-1.37-1.37c-.4-.4-.92-.59-1.43-.59-.52 0-1.04.2-1.43.59L10.3 9.45l-7.72 7.72c-.78.78-.78 2.05 0 2.83L4 21.41c.39.39.9.59 1.41.59.51 0 1.02-.2 1.41-.59l7.78-7.78 2.81-2.81c.8-.78.8-2.07 0-2.86zM5.41 20L4 18.59l7.72-7.72 1.47 1.35L5.41 20z\"/>\n",
              "  </svg>\n",
              "      </button>\n",
              "\n",
              "\n",
              "\n",
              "    <div id=\"df-dce96752-1a25-4f4c-aef9-ba68bfc006d0\">\n",
              "      <button class=\"colab-df-quickchart\" onclick=\"quickchart('df-dce96752-1a25-4f4c-aef9-ba68bfc006d0')\"\n",
              "              title=\"Suggest charts.\"\n",
              "              style=\"display:none;\">\n",
              "\n",
              "<svg xmlns=\"http://www.w3.org/2000/svg\" height=\"24px\"viewBox=\"0 0 24 24\"\n",
              "     width=\"24px\">\n",
              "    <g>\n",
              "        <path d=\"M19 3H5c-1.1 0-2 .9-2 2v14c0 1.1.9 2 2 2h14c1.1 0 2-.9 2-2V5c0-1.1-.9-2-2-2zM9 17H7v-7h2v7zm4 0h-2V7h2v10zm4 0h-2v-4h2v4z\"/>\n",
              "    </g>\n",
              "</svg>\n",
              "      </button>\n",
              "    </div>\n",
              "\n",
              "<style>\n",
              "  .colab-df-quickchart {\n",
              "    background-color: #E8F0FE;\n",
              "    border: none;\n",
              "    border-radius: 50%;\n",
              "    cursor: pointer;\n",
              "    display: none;\n",
              "    fill: #1967D2;\n",
              "    height: 32px;\n",
              "    padding: 0 0 0 0;\n",
              "    width: 32px;\n",
              "  }\n",
              "\n",
              "  .colab-df-quickchart:hover {\n",
              "    background-color: #E2EBFA;\n",
              "    box-shadow: 0px 1px 2px rgba(60, 64, 67, 0.3), 0px 1px 3px 1px rgba(60, 64, 67, 0.15);\n",
              "    fill: #174EA6;\n",
              "  }\n",
              "\n",
              "  [theme=dark] .colab-df-quickchart {\n",
              "    background-color: #3B4455;\n",
              "    fill: #D2E3FC;\n",
              "  }\n",
              "\n",
              "  [theme=dark] .colab-df-quickchart:hover {\n",
              "    background-color: #434B5C;\n",
              "    box-shadow: 0px 1px 3px 1px rgba(0, 0, 0, 0.15);\n",
              "    filter: drop-shadow(0px 1px 2px rgba(0, 0, 0, 0.3));\n",
              "    fill: #FFFFFF;\n",
              "  }\n",
              "</style>\n",
              "\n",
              "    <script>\n",
              "      async function quickchart(key) {\n",
              "        const containerElement = document.querySelector('#' + key);\n",
              "        const charts = await google.colab.kernel.invokeFunction(\n",
              "            'suggestCharts', [key], {});\n",
              "      }\n",
              "    </script>\n",
              "\n",
              "      <script>\n",
              "\n",
              "function displayQuickchartButton(domScope) {\n",
              "  let quickchartButtonEl =\n",
              "    domScope.querySelector('#df-dce96752-1a25-4f4c-aef9-ba68bfc006d0 button.colab-df-quickchart');\n",
              "  quickchartButtonEl.style.display =\n",
              "    google.colab.kernel.accessAllowed ? 'block' : 'none';\n",
              "}\n",
              "\n",
              "        displayQuickchartButton(document);\n",
              "      </script>\n",
              "      <style>\n",
              "    .colab-df-container {\n",
              "      display:flex;\n",
              "      flex-wrap:wrap;\n",
              "      gap: 12px;\n",
              "    }\n",
              "\n",
              "    .colab-df-convert {\n",
              "      background-color: #E8F0FE;\n",
              "      border: none;\n",
              "      border-radius: 50%;\n",
              "      cursor: pointer;\n",
              "      display: none;\n",
              "      fill: #1967D2;\n",
              "      height: 32px;\n",
              "      padding: 0 0 0 0;\n",
              "      width: 32px;\n",
              "    }\n",
              "\n",
              "    .colab-df-convert:hover {\n",
              "      background-color: #E2EBFA;\n",
              "      box-shadow: 0px 1px 2px rgba(60, 64, 67, 0.3), 0px 1px 3px 1px rgba(60, 64, 67, 0.15);\n",
              "      fill: #174EA6;\n",
              "    }\n",
              "\n",
              "    [theme=dark] .colab-df-convert {\n",
              "      background-color: #3B4455;\n",
              "      fill: #D2E3FC;\n",
              "    }\n",
              "\n",
              "    [theme=dark] .colab-df-convert:hover {\n",
              "      background-color: #434B5C;\n",
              "      box-shadow: 0px 1px 3px 1px rgba(0, 0, 0, 0.15);\n",
              "      filter: drop-shadow(0px 1px 2px rgba(0, 0, 0, 0.3));\n",
              "      fill: #FFFFFF;\n",
              "    }\n",
              "  </style>\n",
              "\n",
              "      <script>\n",
              "        const buttonEl =\n",
              "          document.querySelector('#df-213fcb14-b2e0-4955-afc0-2c96a7bc7018 button.colab-df-convert');\n",
              "        buttonEl.style.display =\n",
              "          google.colab.kernel.accessAllowed ? 'block' : 'none';\n",
              "\n",
              "        async function convertToInteractive(key) {\n",
              "          const element = document.querySelector('#df-213fcb14-b2e0-4955-afc0-2c96a7bc7018');\n",
              "          const dataTable =\n",
              "            await google.colab.kernel.invokeFunction('convertToInteractive',\n",
              "                                                     [key], {});\n",
              "          if (!dataTable) return;\n",
              "\n",
              "          const docLinkHtml = 'Like what you see? Visit the ' +\n",
              "            '<a target=\"_blank\" href=https://colab.research.google.com/notebooks/data_table.ipynb>data table notebook</a>'\n",
              "            + ' to learn more about interactive tables.';\n",
              "          element.innerHTML = '';\n",
              "          dataTable['output_type'] = 'display_data';\n",
              "          await google.colab.output.renderOutput(dataTable, element);\n",
              "          const docLink = document.createElement('div');\n",
              "          docLink.innerHTML = docLinkHtml;\n",
              "          element.appendChild(docLink);\n",
              "        }\n",
              "      </script>\n",
              "    </div>\n",
              "  </div>\n"
            ]
          },
          "metadata": {},
          "execution_count": 22
        }
      ]
    },
    {
      "cell_type": "code",
      "source": [
        "X.dtypes"
      ],
      "metadata": {
        "colab": {
          "base_uri": "https://localhost:8080/"
        },
        "id": "zhBTR1Xt_pLO",
        "outputId": "ffdd1cdf-278b-45ca-d21c-1607ecc2fc2e"
      },
      "execution_count": 23,
      "outputs": [
        {
          "output_type": "execute_result",
          "data": {
            "text/plain": [
              "Gender                      object\n",
              "Age                        float64\n",
              "Occupation                  object\n",
              "Sleep Duration             float64\n",
              "Quality of Sleep           float64\n",
              "Physical Activity Level    float64\n",
              "Stress Level               float64\n",
              "BMI Category                object\n",
              "Heart Rate                 float64\n",
              "Daily Steps                float64\n",
              "SYS                        float64\n",
              "DIA                        float64\n",
              "dtype: object"
            ]
          },
          "metadata": {},
          "execution_count": 23
        }
      ]
    },
    {
      "cell_type": "code",
      "source": [
        "#Builidng a pipeline for categorical variables encoding\n",
        "data_pipeline = ColumnTransformer([\n",
        "                (\"convert_to_catogorical\", OrdinalEncoder(),[\"Gender\", \"Occupation\", \"BMI Category\"])\n",
        "], remainder=\"passthrough\")"
      ],
      "metadata": {
        "id": "CDdDmPms_rf9"
      },
      "execution_count": 24,
      "outputs": []
    },
    {
      "cell_type": "code",
      "source": [
        "X_col = X.columns\n",
        "X = data_pipeline.fit_transform(X)"
      ],
      "metadata": {
        "id": "rb6uvMK7_1XT"
      },
      "execution_count": 25,
      "outputs": []
    },
    {
      "cell_type": "code",
      "source": [
        "y_encoder = LabelEncoder()\n",
        "y = y_encoder.fit_transform(y.fillna(\"0\"))"
      ],
      "metadata": {
        "id": "Ojof8pPx_3AT"
      },
      "execution_count": 26,
      "outputs": []
    },
    {
      "cell_type": "code",
      "source": [
        "X.shape, y.shape"
      ],
      "metadata": {
        "colab": {
          "base_uri": "https://localhost:8080/"
        },
        "id": "KJ5PKATr_4dT",
        "outputId": "2f3a1065-fd8b-4ce3-fdc1-f13746be956b"
      },
      "execution_count": 27,
      "outputs": [
        {
          "output_type": "execute_result",
          "data": {
            "text/plain": [
              "((374, 12), (374,))"
            ]
          },
          "metadata": {},
          "execution_count": 27
        }
      ]
    },
    {
      "cell_type": "code",
      "source": [
        "#Split data\n",
        "X_train, X_test, y_train, y_test = train_test_split(X, y, random_state=77)"
      ],
      "metadata": {
        "id": "wiKIZ6CF_5vb"
      },
      "execution_count": 28,
      "outputs": []
    },
    {
      "cell_type": "markdown",
      "source": [
        "#### Decision Tree"
      ],
      "metadata": {
        "id": "hmKJEMNc__5r"
      }
    },
    {
      "cell_type": "code",
      "source": [
        "clf_tree = tree.DecisionTreeClassifier(max_depth=3)"
      ],
      "metadata": {
        "id": "t9co6nbc_9ND"
      },
      "execution_count": 29,
      "outputs": []
    },
    {
      "cell_type": "code",
      "source": [
        "clf_tree.fit(X_train, y_train)"
      ],
      "metadata": {
        "colab": {
          "base_uri": "https://localhost:8080/",
          "height": 75
        },
        "id": "X3ART-vMAD-6",
        "outputId": "17f415af-638c-4451-d411-96ddea289d37"
      },
      "execution_count": 30,
      "outputs": [
        {
          "output_type": "execute_result",
          "data": {
            "text/plain": [
              "DecisionTreeClassifier(max_depth=3)"
            ],
            "text/html": [
              "<style>#sk-container-id-2 {color: black;background-color: white;}#sk-container-id-2 pre{padding: 0;}#sk-container-id-2 div.sk-toggleable {background-color: white;}#sk-container-id-2 label.sk-toggleable__label {cursor: pointer;display: block;width: 100%;margin-bottom: 0;padding: 0.3em;box-sizing: border-box;text-align: center;}#sk-container-id-2 label.sk-toggleable__label-arrow:before {content: \"▸\";float: left;margin-right: 0.25em;color: #696969;}#sk-container-id-2 label.sk-toggleable__label-arrow:hover:before {color: black;}#sk-container-id-2 div.sk-estimator:hover label.sk-toggleable__label-arrow:before {color: black;}#sk-container-id-2 div.sk-toggleable__content {max-height: 0;max-width: 0;overflow: hidden;text-align: left;background-color: #f0f8ff;}#sk-container-id-2 div.sk-toggleable__content pre {margin: 0.2em;color: black;border-radius: 0.25em;background-color: #f0f8ff;}#sk-container-id-2 input.sk-toggleable__control:checked~div.sk-toggleable__content {max-height: 200px;max-width: 100%;overflow: auto;}#sk-container-id-2 input.sk-toggleable__control:checked~label.sk-toggleable__label-arrow:before {content: \"▾\";}#sk-container-id-2 div.sk-estimator input.sk-toggleable__control:checked~label.sk-toggleable__label {background-color: #d4ebff;}#sk-container-id-2 div.sk-label input.sk-toggleable__control:checked~label.sk-toggleable__label {background-color: #d4ebff;}#sk-container-id-2 input.sk-hidden--visually {border: 0;clip: rect(1px 1px 1px 1px);clip: rect(1px, 1px, 1px, 1px);height: 1px;margin: -1px;overflow: hidden;padding: 0;position: absolute;width: 1px;}#sk-container-id-2 div.sk-estimator {font-family: monospace;background-color: #f0f8ff;border: 1px dotted black;border-radius: 0.25em;box-sizing: border-box;margin-bottom: 0.5em;}#sk-container-id-2 div.sk-estimator:hover {background-color: #d4ebff;}#sk-container-id-2 div.sk-parallel-item::after {content: \"\";width: 100%;border-bottom: 1px solid gray;flex-grow: 1;}#sk-container-id-2 div.sk-label:hover label.sk-toggleable__label {background-color: #d4ebff;}#sk-container-id-2 div.sk-serial::before {content: \"\";position: absolute;border-left: 1px solid gray;box-sizing: border-box;top: 0;bottom: 0;left: 50%;z-index: 0;}#sk-container-id-2 div.sk-serial {display: flex;flex-direction: column;align-items: center;background-color: white;padding-right: 0.2em;padding-left: 0.2em;position: relative;}#sk-container-id-2 div.sk-item {position: relative;z-index: 1;}#sk-container-id-2 div.sk-parallel {display: flex;align-items: stretch;justify-content: center;background-color: white;position: relative;}#sk-container-id-2 div.sk-item::before, #sk-container-id-2 div.sk-parallel-item::before {content: \"\";position: absolute;border-left: 1px solid gray;box-sizing: border-box;top: 0;bottom: 0;left: 50%;z-index: -1;}#sk-container-id-2 div.sk-parallel-item {display: flex;flex-direction: column;z-index: 1;position: relative;background-color: white;}#sk-container-id-2 div.sk-parallel-item:first-child::after {align-self: flex-end;width: 50%;}#sk-container-id-2 div.sk-parallel-item:last-child::after {align-self: flex-start;width: 50%;}#sk-container-id-2 div.sk-parallel-item:only-child::after {width: 0;}#sk-container-id-2 div.sk-dashed-wrapped {border: 1px dashed gray;margin: 0 0.4em 0.5em 0.4em;box-sizing: border-box;padding-bottom: 0.4em;background-color: white;}#sk-container-id-2 div.sk-label label {font-family: monospace;font-weight: bold;display: inline-block;line-height: 1.2em;}#sk-container-id-2 div.sk-label-container {text-align: center;}#sk-container-id-2 div.sk-container {/* jupyter's `normalize.less` sets `[hidden] { display: none; }` but bootstrap.min.css set `[hidden] { display: none !important; }` so we also need the `!important` here to be able to override the default hidden behavior on the sphinx rendered scikit-learn.org. See: https://github.com/scikit-learn/scikit-learn/issues/21755 */display: inline-block !important;position: relative;}#sk-container-id-2 div.sk-text-repr-fallback {display: none;}</style><div id=\"sk-container-id-2\" class=\"sk-top-container\"><div class=\"sk-text-repr-fallback\"><pre>DecisionTreeClassifier(max_depth=3)</pre><b>In a Jupyter environment, please rerun this cell to show the HTML representation or trust the notebook. <br />On GitHub, the HTML representation is unable to render, please try loading this page with nbviewer.org.</b></div><div class=\"sk-container\" hidden><div class=\"sk-item\"><div class=\"sk-estimator sk-toggleable\"><input class=\"sk-toggleable__control sk-hidden--visually\" id=\"sk-estimator-id-4\" type=\"checkbox\" checked><label for=\"sk-estimator-id-4\" class=\"sk-toggleable__label sk-toggleable__label-arrow\">DecisionTreeClassifier</label><div class=\"sk-toggleable__content\"><pre>DecisionTreeClassifier(max_depth=3)</pre></div></div></div></div></div>"
            ]
          },
          "metadata": {},
          "execution_count": 30
        }
      ]
    },
    {
      "cell_type": "code",
      "source": [
        "clf_tree.score(X_train, y_train), clf_tree.score(X_test, y_test)"
      ],
      "metadata": {
        "colab": {
          "base_uri": "https://localhost:8080/"
        },
        "id": "HZaekdCvATpd",
        "outputId": "cf885c10-bcd3-47f7-df71-189dae3424ee"
      },
      "execution_count": 31,
      "outputs": [
        {
          "output_type": "execute_result",
          "data": {
            "text/plain": [
              "(0.9178571428571428, 0.8829787234042553)"
            ]
          },
          "metadata": {},
          "execution_count": 31
        }
      ]
    },
    {
      "cell_type": "code",
      "source": [
        "#Plotting the tree\n",
        "tree.plot_tree(clf_tree)"
      ],
      "metadata": {
        "colab": {
          "base_uri": "https://localhost:8080/",
          "height": 666
        },
        "id": "5fXCwWfCAUo1",
        "outputId": "2fb7a497-0233-40f5-b19e-b6314b7ae992"
      },
      "execution_count": 32,
      "outputs": [
        {
          "output_type": "execute_result",
          "data": {
            "text/plain": [
              "[Text(0.5, 0.875, 'x[2] <= 1.5\\ngini = 0.576\\nsamples = 280\\nvalue = [60, 162, 58]'),\n",
              " Text(0.25, 0.625, 'x[5] <= 5.5\\ngini = 0.133\\nsamples = 157\\nvalue = [7, 146, 4]'),\n",
              " Text(0.125, 0.375, 'x[11] <= 86.5\\ngini = 0.444\\nsamples = 3\\nvalue = [2, 0, 1]'),\n",
              " Text(0.0625, 0.125, 'gini = 0.5\\nsamples = 2\\nvalue = [1, 0, 1]'),\n",
              " Text(0.1875, 0.125, 'gini = 0.0\\nsamples = 1\\nvalue = [1, 0, 0]'),\n",
              " Text(0.375, 0.375, 'x[1] <= 9.5\\ngini = 0.1\\nsamples = 154\\nvalue = [5, 146, 3]'),\n",
              " Text(0.3125, 0.125, 'gini = 0.091\\nsamples = 148\\nvalue = [5, 141, 2]'),\n",
              " Text(0.4375, 0.125, 'gini = 0.278\\nsamples = 6\\nvalue = [0, 5, 1]'),\n",
              " Text(0.75, 0.625, 'x[6] <= 70.0\\ngini = 0.605\\nsamples = 123\\nvalue = [53, 16, 54]'),\n",
              " Text(0.625, 0.375, 'x[10] <= 128.5\\ngini = 0.422\\nsamples = 72\\nvalue = [53, 11, 8]'),\n",
              " Text(0.5625, 0.125, 'gini = 0.0\\nsamples = 9\\nvalue = [0, 9, 0]'),\n",
              " Text(0.6875, 0.125, 'gini = 0.275\\nsamples = 63\\nvalue = [53, 2, 8]'),\n",
              " Text(0.875, 0.375, 'x[3] <= 46.0\\ngini = 0.177\\nsamples = 51\\nvalue = [0, 5, 46]'),\n",
              " Text(0.8125, 0.125, 'gini = 0.0\\nsamples = 1\\nvalue = [0, 1, 0]'),\n",
              " Text(0.9375, 0.125, 'gini = 0.147\\nsamples = 50\\nvalue = [0, 4, 46]')]"
            ]
          },
          "metadata": {},
          "execution_count": 32
        },
        {
          "output_type": "display_data",
          "data": {
            "text/plain": [
              "<Figure size 640x480 with 1 Axes>"
            ],
            "image/png": "[encoded data removed]"
          },
          "metadata": {}
        }
      ]
    },
    {
      "cell_type": "markdown",
      "source": [
        "#### Random Forests"
      ],
      "metadata": {
        "id": "HQKRnUnYAbLV"
      }
    },
    {
      "cell_type": "code",
      "source": [
        "clf = RandomForestClassifier(\n",
        "    max_depth=4,\n",
        "    random_state=0,\n",
        "    n_estimators=200)"
      ],
      "metadata": {
        "id": "neScbxhKAZwN"
      },
      "execution_count": 33,
      "outputs": []
    },
    {
      "cell_type": "code",
      "source": [
        "clf.fit(X_train, y_train)"
      ],
      "metadata": {
        "colab": {
          "base_uri": "https://localhost:8080/",
          "height": 75
        },
        "id": "ZNsiyNn6AgFi",
        "outputId": "9ec2eb38-96c1-4911-aec3-f5ed1279b7b9"
      },
      "execution_count": 34,
      "outputs": [
        {
          "output_type": "execute_result",
          "data": {
            "text/plain": [
              "RandomForestClassifier(max_depth=4, n_estimators=200, random_state=0)"
            ],
            "text/html": [
              "<style>#sk-container-id-3 {color: black;background-color: white;}#sk-container-id-3 pre{padding: 0;}#sk-container-id-3 div.sk-toggleable {background-color: white;}#sk-container-id-3 label.sk-toggleable__label {cursor: pointer;display: block;width: 100%;margin-bottom: 0;padding: 0.3em;box-sizing: border-box;text-align: center;}#sk-container-id-3 label.sk-toggleable__label-arrow:before {content: \"▸\";float: left;margin-right: 0.25em;color: #696969;}#sk-container-id-3 label.sk-toggleable__label-arrow:hover:before {color: black;}#sk-container-id-3 div.sk-estimator:hover label.sk-toggleable__label-arrow:before {color: black;}#sk-container-id-3 div.sk-toggleable__content {max-height: 0;max-width: 0;overflow: hidden;text-align: left;background-color: #f0f8ff;}#sk-container-id-3 div.sk-toggleable__content pre {margin: 0.2em;color: black;border-radius: 0.25em;background-color: #f0f8ff;}#sk-container-id-3 input.sk-toggleable__control:checked~div.sk-toggleable__content {max-height: 200px;max-width: 100%;overflow: auto;}#sk-container-id-3 input.sk-toggleable__control:checked~label.sk-toggleable__label-arrow:before {content: \"▾\";}#sk-container-id-3 div.sk-estimator input.sk-toggleable__control:checked~label.sk-toggleable__label {background-color: #d4ebff;}#sk-container-id-3 div.sk-label input.sk-toggleable__control:checked~label.sk-toggleable__label {background-color: #d4ebff;}#sk-container-id-3 input.sk-hidden--visually {border: 0;clip: rect(1px 1px 1px 1px);clip: rect(1px, 1px, 1px, 1px);height: 1px;margin: -1px;overflow: hidden;padding: 0;position: absolute;width: 1px;}#sk-container-id-3 div.sk-estimator {font-family: monospace;background-color: #f0f8ff;border: 1px dotted black;border-radius: 0.25em;box-sizing: border-box;margin-bottom: 0.5em;}#sk-container-id-3 div.sk-estimator:hover {background-color: #d4ebff;}#sk-container-id-3 div.sk-parallel-item::after {content: \"\";width: 100%;border-bottom: 1px solid gray;flex-grow: 1;}#sk-container-id-3 div.sk-label:hover label.sk-toggleable__label {background-color: #d4ebff;}#sk-container-id-3 div.sk-serial::before {content: \"\";position: absolute;border-left: 1px solid gray;box-sizing: border-box;top: 0;bottom: 0;left: 50%;z-index: 0;}#sk-container-id-3 div.sk-serial {display: flex;flex-direction: column;align-items: center;background-color: white;padding-right: 0.2em;padding-left: 0.2em;position: relative;}#sk-container-id-3 div.sk-item {position: relative;z-index: 1;}#sk-container-id-3 div.sk-parallel {display: flex;align-items: stretch;justify-content: center;background-color: white;position: relative;}#sk-container-id-3 div.sk-item::before, #sk-container-id-3 div.sk-parallel-item::before {content: \"\";position: absolute;border-left: 1px solid gray;box-sizing: border-box;top: 0;bottom: 0;left: 50%;z-index: -1;}#sk-container-id-3 div.sk-parallel-item {display: flex;flex-direction: column;z-index: 1;position: relative;background-color: white;}#sk-container-id-3 div.sk-parallel-item:first-child::after {align-self: flex-end;width: 50%;}#sk-container-id-3 div.sk-parallel-item:last-child::after {align-self: flex-start;width: 50%;}#sk-container-id-3 div.sk-parallel-item:only-child::after {width: 0;}#sk-container-id-3 div.sk-dashed-wrapped {border: 1px dashed gray;margin: 0 0.4em 0.5em 0.4em;box-sizing: border-box;padding-bottom: 0.4em;background-color: white;}#sk-container-id-3 div.sk-label label {font-family: monospace;font-weight: bold;display: inline-block;line-height: 1.2em;}#sk-container-id-3 div.sk-label-container {text-align: center;}#sk-container-id-3 div.sk-container {/* jupyter's `normalize.less` sets `[hidden] { display: none; }` but bootstrap.min.css set `[hidden] { display: none !important; }` so we also need the `!important` here to be able to override the default hidden behavior on the sphinx rendered scikit-learn.org. See: https://github.com/scikit-learn/scikit-learn/issues/21755 */display: inline-block !important;position: relative;}#sk-container-id-3 div.sk-text-repr-fallback {display: none;}</style><div id=\"sk-container-id-3\" class=\"sk-top-container\"><div class=\"sk-text-repr-fallback\"><pre>RandomForestClassifier(max_depth=4, n_estimators=200, random_state=0)</pre><b>In a Jupyter environment, please rerun this cell to show the HTML representation or trust the notebook. <br />On GitHub, the HTML representation is unable to render, please try loading this page with nbviewer.org.</b></div><div class=\"sk-container\" hidden><div class=\"sk-item\"><div class=\"sk-estimator sk-toggleable\"><input class=\"sk-toggleable__control sk-hidden--visually\" id=\"sk-estimator-id-5\" type=\"checkbox\" checked><label for=\"sk-estimator-id-5\" class=\"sk-toggleable__label sk-toggleable__label-arrow\">RandomForestClassifier</label><div class=\"sk-toggleable__content\"><pre>RandomForestClassifier(max_depth=4, n_estimators=200, random_state=0)</pre></div></div></div></div></div>"
            ]
          },
          "metadata": {},
          "execution_count": 34
        }
      ]
    },
    {
      "cell_type": "code",
      "source": [
        "clf.score(X_train, y_train), clf.score(X_test, y_test)"
      ],
      "metadata": {
        "colab": {
          "base_uri": "https://localhost:8080/"
        },
        "id": "FByN0kIQAhxB",
        "outputId": "118340ca-5656-4912-9e62-1ce7f272d01d"
      },
      "execution_count": 35,
      "outputs": [
        {
          "output_type": "execute_result",
          "data": {
            "text/plain": [
              "(0.9321428571428572, 0.8936170212765957)"
            ]
          },
          "metadata": {},
          "execution_count": 35
        }
      ]
    },
    {
      "cell_type": "code",
      "source": [
        "#Feature importance\n",
        "for name, score in zip(X_col, clf.feature_importances_):\n",
        "    print(name, score)"
      ],
      "metadata": {
        "colab": {
          "base_uri": "https://localhost:8080/"
        },
        "id": "DDU-s3a9AjEp",
        "outputId": "fd7ecc05-b96a-4027-c83d-b607a3320197"
      },
      "execution_count": 36,
      "outputs": [
        {
          "output_type": "stream",
          "name": "stdout",
          "text": [
            "Gender 0.007982908501810769\n",
            "Age 0.13294313476709496\n",
            "Occupation 0.17989153250148518\n",
            "Sleep Duration 0.07367327151868415\n",
            "Quality of Sleep 0.07063061739448524\n",
            "Physical Activity Level 0.02682446944821355\n",
            "Stress Level 0.06458440448846094\n",
            "BMI Category 0.04015099545174018\n",
            "Heart Rate 0.03519037597736181\n",
            "Daily Steps 0.04565581662351279\n",
            "SYS 0.15764682620831488\n",
            "DIA 0.16482564711883552\n"
          ]
        }
      ]
    },
    {
      "cell_type": "markdown",
      "source": [
        "#### Gradient Boosting"
      ],
      "metadata": {
        "id": "sGCedJcMAns5"
      }
    },
    {
      "cell_type": "code",
      "source": [
        "gb_clf = GradientBoostingRegressor(max_depth=4, n_estimators=300, learning_rate=0.2)"
      ],
      "metadata": {
        "id": "OJ-mOjRqAmbR"
      },
      "execution_count": 37,
      "outputs": []
    },
    {
      "cell_type": "code",
      "source": [
        "gb_clf.fit(X_train, y_train)"
      ],
      "metadata": {
        "colab": {
          "base_uri": "https://localhost:8080/",
          "height": 75
        },
        "id": "Si9ScIV3ArHZ",
        "outputId": "b1c8dd70-9a4a-4ebf-d8e4-3e812d6dfd6b"
      },
      "execution_count": 38,
      "outputs": [
        {
          "output_type": "execute_result",
          "data": {
            "text/plain": [
              "GradientBoostingRegressor(learning_rate=0.2, max_depth=4, n_estimators=300)"
            ],
            "text/html": [
              "<style>#sk-container-id-4 {color: black;background-color: white;}#sk-container-id-4 pre{padding: 0;}#sk-container-id-4 div.sk-toggleable {background-color: white;}#sk-container-id-4 label.sk-toggleable__label {cursor: pointer;display: block;width: 100%;margin-bottom: 0;padding: 0.3em;box-sizing: border-box;text-align: center;}#sk-container-id-4 label.sk-toggleable__label-arrow:before {content: \"▸\";float: left;margin-right: 0.25em;color: #696969;}#sk-container-id-4 label.sk-toggleable__label-arrow:hover:before {color: black;}#sk-container-id-4 div.sk-estimator:hover label.sk-toggleable__label-arrow:before {color: black;}#sk-container-id-4 div.sk-toggleable__content {max-height: 0;max-width: 0;overflow: hidden;text-align: left;background-color: #f0f8ff;}#sk-container-id-4 div.sk-toggleable__content pre {margin: 0.2em;color: black;border-radius: 0.25em;background-color: #f0f8ff;}#sk-container-id-4 input.sk-toggleable__control:checked~div.sk-toggleable__content {max-height: 200px;max-width: 100%;overflow: auto;}#sk-container-id-4 input.sk-toggleable__control:checked~label.sk-toggleable__label-arrow:before {content: \"▾\";}#sk-container-id-4 div.sk-estimator input.sk-toggleable__control:checked~label.sk-toggleable__label {background-color: #d4ebff;}#sk-container-id-4 div.sk-label input.sk-toggleable__control:checked~label.sk-toggleable__label {background-color: #d4ebff;}#sk-container-id-4 input.sk-hidden--visually {border: 0;clip: rect(1px 1px 1px 1px);clip: rect(1px, 1px, 1px, 1px);height: 1px;margin: -1px;overflow: hidden;padding: 0;position: absolute;width: 1px;}#sk-container-id-4 div.sk-estimator {font-family: monospace;background-color: #f0f8ff;border: 1px dotted black;border-radius: 0.25em;box-sizing: border-box;margin-bottom: 0.5em;}#sk-container-id-4 div.sk-estimator:hover {background-color: #d4ebff;}#sk-container-id-4 div.sk-parallel-item::after {content: \"\";width: 100%;border-bottom: 1px solid gray;flex-grow: 1;}#sk-container-id-4 div.sk-label:hover label.sk-toggleable__label {background-color: #d4ebff;}#sk-container-id-4 div.sk-serial::before {content: \"\";position: absolute;border-left: 1px solid gray;box-sizing: border-box;top: 0;bottom: 0;left: 50%;z-index: 0;}#sk-container-id-4 div.sk-serial {display: flex;flex-direction: column;align-items: center;background-color: white;padding-right: 0.2em;padding-left: 0.2em;position: relative;}#sk-container-id-4 div.sk-item {position: relative;z-index: 1;}#sk-container-id-4 div.sk-parallel {display: flex;align-items: stretch;justify-content: center;background-color: white;position: relative;}#sk-container-id-4 div.sk-item::before, #sk-container-id-4 div.sk-parallel-item::before {content: \"\";position: absolute;border-left: 1px solid gray;box-sizing: border-box;top: 0;bottom: 0;left: 50%;z-index: -1;}#sk-container-id-4 div.sk-parallel-item {display: flex;flex-direction: column;z-index: 1;position: relative;background-color: white;}#sk-container-id-4 div.sk-parallel-item:first-child::after {align-self: flex-end;width: 50%;}#sk-container-id-4 div.sk-parallel-item:last-child::after {align-self: flex-start;width: 50%;}#sk-container-id-4 div.sk-parallel-item:only-child::after {width: 0;}#sk-container-id-4 div.sk-dashed-wrapped {border: 1px dashed gray;margin: 0 0.4em 0.5em 0.4em;box-sizing: border-box;padding-bottom: 0.4em;background-color: white;}#sk-container-id-4 div.sk-label label {font-family: monospace;font-weight: bold;display: inline-block;line-height: 1.2em;}#sk-container-id-4 div.sk-label-container {text-align: center;}#sk-container-id-4 div.sk-container {/* jupyter's `normalize.less` sets `[hidden] { display: none; }` but bootstrap.min.css set `[hidden] { display: none !important; }` so we also need the `!important` here to be able to override the default hidden behavior on the sphinx rendered scikit-learn.org. See: https://github.com/scikit-learn/scikit-learn/issues/21755 */display: inline-block !important;position: relative;}#sk-container-id-4 div.sk-text-repr-fallback {display: none;}</style><div id=\"sk-container-id-4\" class=\"sk-top-container\"><div class=\"sk-text-repr-fallback\"><pre>GradientBoostingRegressor(learning_rate=0.2, max_depth=4, n_estimators=300)</pre><b>In a Jupyter environment, please rerun this cell to show the HTML representation or trust the notebook. <br />On GitHub, the HTML representation is unable to render, please try loading this page with nbviewer.org.</b></div><div class=\"sk-container\" hidden><div class=\"sk-item\"><div class=\"sk-estimator sk-toggleable\"><input class=\"sk-toggleable__control sk-hidden--visually\" id=\"sk-estimator-id-6\" type=\"checkbox\" checked><label for=\"sk-estimator-id-6\" class=\"sk-toggleable__label sk-toggleable__label-arrow\">GradientBoostingRegressor</label><div class=\"sk-toggleable__content\"><pre>GradientBoostingRegressor(learning_rate=0.2, max_depth=4, n_estimators=300)</pre></div></div></div></div></div>"
            ]
          },
          "metadata": {},
          "execution_count": 38
        }
      ]
    },
    {
      "cell_type": "code",
      "source": [
        "gb_clf.score(X_train, y_train), gb_clf.score(X_test, y_test)"
      ],
      "metadata": {
        "colab": {
          "base_uri": "https://localhost:8080/"
        },
        "id": "gZjCA2SZAsjB",
        "outputId": "56f82d1e-1878-47ab-f2e1-8b8ca342f173"
      },
      "execution_count": 39,
      "outputs": [
        {
          "output_type": "execute_result",
          "data": {
            "text/plain": [
              "(0.8650666648671831, 0.3939757115364546)"
            ]
          },
          "metadata": {},
          "execution_count": 39
        }
      ]
    },
    {
      "cell_type": "code",
      "source": [
        "for name, score in zip(X_col, gb_clf.feature_importances_):\n",
        "    print(name, score)"
      ],
      "metadata": {
        "colab": {
          "base_uri": "https://localhost:8080/"
        },
        "id": "wp8kUoOrAttx",
        "outputId": "5dbf214f-3ec2-455b-89d4-e2ccd86d6d2b"
      },
      "execution_count": 40,
      "outputs": [
        {
          "output_type": "stream",
          "name": "stdout",
          "text": [
            "Gender 0.024398643059618096\n",
            "Age 0.04816304965613218\n",
            "Occupation 0.19439688438680716\n",
            "Sleep Duration 0.10884395323736787\n",
            "Quality of Sleep 0.03081455932344979\n",
            "Physical Activity Level 0.004540007757762399\n",
            "Stress Level 0.010063962887312925\n",
            "BMI Category 0.00023236127751312307\n",
            "Heart Rate 0.03489945955546766\n",
            "Daily Steps 0.013830284215753597\n",
            "SYS 0.02065268498728129\n",
            "DIA 0.5091641496555338\n"
          ]
        }
      ]
    },
    {
      "cell_type": "code",
      "source": [
        "gb_clf.get_params()"
      ],
      "metadata": {
        "colab": {
          "base_uri": "https://localhost:8080/"
        },
        "id": "dBh1iFeQAvNP",
        "outputId": "c8073e30-a5a5-4b72-b278-eb18cbf2b985"
      },
      "execution_count": 41,
      "outputs": [
        {
          "output_type": "execute_result",
          "data": {
            "text/plain": [
              "{'alpha': 0.9,\n",
              " 'ccp_alpha': 0.0,\n",
              " 'criterion': 'friedman_mse',\n",
              " 'init': None,\n",
              " 'learning_rate': 0.2,\n",
              " 'loss': 'squared_error',\n",
              " 'max_depth': 4,\n",
              " 'max_features': None,\n",
              " 'max_leaf_nodes': None,\n",
              " 'min_impurity_decrease': 0.0,\n",
              " 'min_samples_leaf': 1,\n",
              " 'min_samples_split': 2,\n",
              " 'min_weight_fraction_leaf': 0.0,\n",
              " 'n_estimators': 300,\n",
              " 'n_iter_no_change': None,\n",
              " 'random_state': None,\n",
              " 'subsample': 1.0,\n",
              " 'tol': 0.0001,\n",
              " 'validation_fraction': 0.1,\n",
              " 'verbose': 0,\n",
              " 'warm_start': False}"
            ]
          },
          "metadata": {},
          "execution_count": 41
        }
      ]
    },
    {
      "cell_type": "code",
      "source": [
        "gb_clf.estimators_"
      ],
      "metadata": {
        "id": "y1YI7xTfAwqm",
        "outputId": "7ce31c58-e184-4942-fa0c-0874b0e1daec",
        "colab": {
          "base_uri": "https://localhost:8080/"
        }
      },
      "execution_count": 42,
      "outputs": [
        {
          "output_type": "execute_result",
          "data": {
            "text/plain": [
              "array([[DecisionTreeRegressor(criterion='friedman_mse', max_depth=4,\n",
              "                              random_state=RandomState(MT19937) at 0x7A26A6623640)],\n",
              "       [DecisionTreeRegressor(criterion='friedman_mse', max_depth=4,\n",
              "                              random_state=RandomState(MT19937) at 0x7A26A6623640)],\n",
              "       [DecisionTreeRegressor(criterion='friedman_mse', max_depth=4,\n",
              "                              random_state=RandomState(MT19937) at 0x7A26A6623640)],\n",
              "       [DecisionTreeRegressor(criterion='friedman_mse', max_depth=4,\n",
              "                              random_state=RandomState(MT19937) at 0x7A26A6623640)],\n",
              "       [DecisionTreeRegressor(criterion='friedman_mse', max_depth=4,\n",
              "                              random_state=RandomState(MT19937) at 0x7A26A6623640)],\n",
              "       [DecisionTreeRegressor(criterion='friedman_mse', max_depth=4,\n",
              "                              random_state=RandomState(MT19937) at 0x7A26A6623640)],\n",
              "       [DecisionTreeRegressor(criterion='friedman_mse', max_depth=4,\n",
              "                              random_state=RandomState(MT19937) at 0x7A26A6623640)],\n",
              "       [DecisionTreeRegressor(criterion='friedman_mse', max_depth=4,\n",
              "                              random_state=RandomState(MT19937) at 0x7A26A6623640)],\n",
              "       [DecisionTreeRegressor(criterion='friedman_mse', max_depth=4,\n",
              "                              random_state=RandomState(MT19937) at 0x7A26A6623640)],\n",
              "       [DecisionTreeRegressor(criterion='friedman_mse', max_depth=4,\n",
              "                              random_state=RandomState(MT19937) at 0x7A26A6623640)],\n",
              "       [DecisionTreeRegressor(criterion='friedman_mse', max_depth=4,\n",
              "                              random_state=RandomState(MT19937) at 0x7A26A6623640)],\n",
              "       [DecisionTreeRegressor(criterion='friedman_mse', max_depth=4,\n",
              "                              random_state=RandomState(MT19937) at 0x7A26A6623640)],\n",
              "       [DecisionTreeRegressor(criterion='friedman_mse', max_depth=4,\n",
              "                              random_state=RandomState(MT19937) at 0x7A26A6623640)],\n",
              "       [DecisionTreeRegressor(criterion='friedman_mse', max_depth=4,\n",
              "                              random_state=RandomState(MT19937) at 0x7A26A6623640)],\n",
              "       [DecisionTreeRegressor(criterion='friedman_mse', max_depth=4,\n",
              "                              random_state=RandomState(MT19937) at 0x7A26A6623640)],\n",
              "       [DecisionTreeRegressor(criterion='friedman_mse', max_depth=4,\n",
              "                              random_state=RandomState(MT19937) at 0x7A26A6623640)],\n",
              "       [DecisionTreeRegressor(criterion='friedman_mse', max_depth=4,\n",
              "                              random_state=RandomState(MT19937) at 0x7A26A6623640)],\n",
              "       [DecisionTreeRegressor(criterion='friedman_mse', max_depth=4,\n",
              "                              random_state=RandomState(MT19937) at 0x7A26A6623640)],\n",
              "       [DecisionTreeRegressor(criterion='friedman_mse', max_depth=4,\n",
              "                              random_state=RandomState(MT19937) at 0x7A26A6623640)],\n",
              "       [DecisionTreeRegressor(criterion='friedman_mse', max_depth=4,\n",
              "                              random_state=RandomState(MT19937) at 0x7A26A6623640)],\n",
              "       [DecisionTreeRegressor(criterion='friedman_mse', max_depth=4,\n",
              "                              random_state=RandomState(MT19937) at 0x7A26A6623640)],\n",
              "       [DecisionTreeRegressor(criterion='friedman_mse', max_depth=4,\n",
              "                              random_state=RandomState(MT19937) at 0x7A26A6623640)],\n",
              "       [DecisionTreeRegressor(criterion='friedman_mse', max_depth=4,\n",
              "                              random_state=RandomState(MT19937) at 0x7A26A6623640)],\n",
              "       [DecisionTreeRegressor(criterion='friedman_mse', max_depth=4,\n",
              "                              random_state=RandomState(MT19937) at 0x7A26A6623640)],\n",
              "       [DecisionTreeRegressor(criterion='friedman_mse', max_depth=4,\n",
              "                              random_state=RandomState(MT19937) at 0x7A26A6623640)],\n",
              "       [DecisionTreeRegressor(criterion='friedman_mse', max_depth=4,\n",
              "                              random_state=RandomState(MT19937) at 0x7A26A6623640)],\n",
              "       [DecisionTreeRegressor(criterion='friedman_mse', max_depth=4,\n",
              "                              random_state=RandomState(MT19937) at 0x7A26A6623640)],\n",
              "       [DecisionTreeRegressor(criterion='friedman_mse', max_depth=4,\n",
              "                              random_state=RandomState(MT19937) at 0x7A26A6623640)],\n",
              "       [DecisionTreeRegressor(criterion='friedman_mse', max_depth=4,\n",
              "                              random_state=RandomState(MT19937) at 0x7A26A6623640)],\n",
              "       [DecisionTreeRegressor(criterion='friedman_mse', max_depth=4,\n",
              "                              random_state=RandomState(MT19937) at 0x7A26A6623640)],\n",
              "       [DecisionTreeRegressor(criterion='friedman_mse', max_depth=4,\n",
              "                              random_state=RandomState(MT19937) at 0x7A26A6623640)],\n",
              "       [DecisionTreeRegressor(criterion='friedman_mse', max_depth=4,\n",
              "                              random_state=RandomState(MT19937) at 0x7A26A6623640)],\n",
              "       [DecisionTreeRegressor(criterion='friedman_mse', max_depth=4,\n",
              "                              random_state=RandomState(MT19937) at 0x7A26A6623640)],\n",
              "       [DecisionTreeRegressor(criterion='friedman_mse', max_depth=4,\n",
              "                              random_state=RandomState(MT19937) at 0x7A26A6623640)],\n",
              "       [DecisionTreeRegressor(criterion='friedman_mse', max_depth=4,\n",
              "                              random_state=RandomState(MT19937) at 0x7A26A6623640)],\n",
              "       [DecisionTreeRegressor(criterion='friedman_mse', max_depth=4,\n",
              "                              random_state=RandomState(MT19937) at 0x7A26A6623640)],\n",
              "       [DecisionTreeRegressor(criterion='friedman_mse', max_depth=4,\n",
              "                              random_state=RandomState(MT19937) at 0x7A26A6623640)],\n",
              "       [DecisionTreeRegressor(criterion='friedman_mse', max_depth=4,\n",
              "                              random_state=RandomState(MT19937) at 0x7A26A6623640)],\n",
              "       [DecisionTreeRegressor(criterion='friedman_mse', max_depth=4,\n",
              "                              random_state=RandomState(MT19937) at 0x7A26A6623640)],\n",
              "       [DecisionTreeRegressor(criterion='friedman_mse', max_depth=4,\n",
              "                              random_state=RandomState(MT19937) at 0x7A26A6623640)],\n",
              "       [DecisionTreeRegressor(criterion='friedman_mse', max_depth=4,\n",
              "                              random_state=RandomState(MT19937) at 0x7A26A6623640)],\n",
              "       [DecisionTreeRegressor(criterion='friedman_mse', max_depth=4,\n",
              "                              random_state=RandomState(MT19937) at 0x7A26A6623640)],\n",
              "       [DecisionTreeRegressor(criterion='friedman_mse', max_depth=4,\n",
              "                              random_state=RandomState(MT19937) at 0x7A26A6623640)],\n",
              "       [DecisionTreeRegressor(criterion='friedman_mse', max_depth=4,\n",
              "                              random_state=RandomState(MT19937) at 0x7A26A6623640)],\n",
              "       [DecisionTreeRegressor(criterion='friedman_mse', max_depth=4,\n",
              "                              random_state=RandomState(MT19937) at 0x7A26A6623640)],\n",
              "       [DecisionTreeRegressor(criterion='friedman_mse', max_depth=4,\n",
              "                              random_state=RandomState(MT19937) at 0x7A26A6623640)],\n",
              "       [DecisionTreeRegressor(criterion='friedman_mse', max_depth=4,\n",
              "                              random_state=RandomState(MT19937) at 0x7A26A6623640)],\n",
              "       [DecisionTreeRegressor(criterion='friedman_mse', max_depth=4,\n",
              "                              random_state=RandomState(MT19937) at 0x7A26A6623640)],\n",
              "       [DecisionTreeRegressor(criterion='friedman_mse', max_depth=4,\n",
              "                              random_state=RandomState(MT19937) at 0x7A26A6623640)],\n",
              "       [DecisionTreeRegressor(criterion='friedman_mse', max_depth=4,\n",
              "                              random_state=RandomState(MT19937) at 0x7A26A6623640)],\n",
              "       [DecisionTreeRegressor(criterion='friedman_mse', max_depth=4,\n",
              "                              random_state=RandomState(MT19937) at 0x7A26A6623640)],\n",
              "       [DecisionTreeRegressor(criterion='friedman_mse', max_depth=4,\n",
              "                              random_state=RandomState(MT19937) at 0x7A26A6623640)],\n",
              "       [DecisionTreeRegressor(criterion='friedman_mse', max_depth=4,\n",
              "                              random_state=RandomState(MT19937) at 0x7A26A6623640)],\n",
              "       [DecisionTreeRegressor(criterion='friedman_mse', max_depth=4,\n",
              "                              random_state=RandomState(MT19937) at 0x7A26A6623640)],\n",
              "       [DecisionTreeRegressor(criterion='friedman_mse', max_depth=4,\n",
              "                              random_state=RandomState(MT19937) at 0x7A26A6623640)],\n",
              "       [DecisionTreeRegressor(criterion='friedman_mse', max_depth=4,\n",
              "                              random_state=RandomState(MT19937) at 0x7A26A6623640)],\n",
              "       [DecisionTreeRegressor(criterion='friedman_mse', max_depth=4,\n",
              "                              random_state=RandomState(MT19937) at 0x7A26A6623640)],\n",
              "       [DecisionTreeRegressor(criterion='friedman_mse', max_depth=4,\n",
              "                              random_state=RandomState(MT19937) at 0x7A26A6623640)],\n",
              "       [DecisionTreeRegressor(criterion='friedman_mse', max_depth=4,\n",
              "                              random_state=RandomState(MT19937) at 0x7A26A6623640)],\n",
              "       [DecisionTreeRegressor(criterion='friedman_mse', max_depth=4,\n",
              "                              random_state=RandomState(MT19937) at 0x7A26A6623640)],\n",
              "       [DecisionTreeRegressor(criterion='friedman_mse', max_depth=4,\n",
              "                              random_state=RandomState(MT19937) at 0x7A26A6623640)],\n",
              "       [DecisionTreeRegressor(criterion='friedman_mse', max_depth=4,\n",
              "                              random_state=RandomState(MT19937) at 0x7A26A6623640)],\n",
              "       [DecisionTreeRegressor(criterion='friedman_mse', max_depth=4,\n",
              "                              random_state=RandomState(MT19937) at 0x7A26A6623640)],\n",
              "       [DecisionTreeRegressor(criterion='friedman_mse', max_depth=4,\n",
              "                              random_state=RandomState(MT19937) at 0x7A26A6623640)],\n",
              "       [DecisionTreeRegressor(criterion='friedman_mse', max_depth=4,\n",
              "                              random_state=RandomState(MT19937) at 0x7A26A6623640)],\n",
              "       [DecisionTreeRegressor(criterion='friedman_mse', max_depth=4,\n",
              "                              random_state=RandomState(MT19937) at 0x7A26A6623640)],\n",
              "       [DecisionTreeRegressor(criterion='friedman_mse', max_depth=4,\n",
              "                              random_state=RandomState(MT19937) at 0x7A26A6623640)],\n",
              "       [DecisionTreeRegressor(criterion='friedman_mse', max_depth=4,\n",
              "                              random_state=RandomState(MT19937) at 0x7A26A6623640)],\n",
              "       [DecisionTreeRegressor(criterion='friedman_mse', max_depth=4,\n",
              "                              random_state=RandomState(MT19937) at 0x7A26A6623640)],\n",
              "       [DecisionTreeRegressor(criterion='friedman_mse', max_depth=4,\n",
              "                              random_state=RandomState(MT19937) at 0x7A26A6623640)],\n",
              "       [DecisionTreeRegressor(criterion='friedman_mse', max_depth=4,\n",
              "                              random_state=RandomState(MT19937) at 0x7A26A6623640)],\n",
              "       [DecisionTreeRegressor(criterion='friedman_mse', max_depth=4,\n",
              "                              random_state=RandomState(MT19937) at 0x7A26A6623640)],\n",
              "       [DecisionTreeRegressor(criterion='friedman_mse', max_depth=4,\n",
              "                              random_state=RandomState(MT19937) at 0x7A26A6623640)],\n",
              "       [DecisionTreeRegressor(criterion='friedman_mse', max_depth=4,\n",
              "                              random_state=RandomState(MT19937) at 0x7A26A6623640)],\n",
              "       [DecisionTreeRegressor(criterion='friedman_mse', max_depth=4,\n",
              "                              random_state=RandomState(MT19937) at 0x7A26A6623640)],\n",
              "       [DecisionTreeRegressor(criterion='friedman_mse', max_depth=4,\n",
              "                              random_state=RandomState(MT19937) at 0x7A26A6623640)],\n",
              "       [DecisionTreeRegressor(criterion='friedman_mse', max_depth=4,\n",
              "                              random_state=RandomState(MT19937) at 0x7A26A6623640)],\n",
              "       [DecisionTreeRegressor(criterion='friedman_mse', max_depth=4,\n",
              "                              random_state=RandomState(MT19937) at 0x7A26A6623640)],\n",
              "       [DecisionTreeRegressor(criterion='friedman_mse', max_depth=4,\n",
              "                              random_state=RandomState(MT19937) at 0x7A26A6623640)],\n",
              "       [DecisionTreeRegressor(criterion='friedman_mse', max_depth=4,\n",
              "                              random_state=RandomState(MT19937) at 0x7A26A6623640)],\n",
              "       [DecisionTreeRegressor(criterion='friedman_mse', max_depth=4,\n",
              "                              random_state=RandomState(MT19937) at 0x7A26A6623640)],\n",
              "       [DecisionTreeRegressor(criterion='friedman_mse', max_depth=4,\n",
              "                              random_state=RandomState(MT19937) at 0x7A26A6623640)],\n",
              "       [DecisionTreeRegressor(criterion='friedman_mse', max_depth=4,\n",
              "                              random_state=RandomState(MT19937) at 0x7A26A6623640)],\n",
              "       [DecisionTreeRegressor(criterion='friedman_mse', max_depth=4,\n",
              "                              random_state=RandomState(MT19937) at 0x7A26A6623640)],\n",
              "       [DecisionTreeRegressor(criterion='friedman_mse', max_depth=4,\n",
              "                              random_state=RandomState(MT19937) at 0x7A26A6623640)],\n",
              "       [DecisionTreeRegressor(criterion='friedman_mse', max_depth=4,\n",
              "                              random_state=RandomState(MT19937) at 0x7A26A6623640)],\n",
              "       [DecisionTreeRegressor(criterion='friedman_mse', max_depth=4,\n",
              "                              random_state=RandomState(MT19937) at 0x7A26A6623640)],\n",
              "       [DecisionTreeRegressor(criterion='friedman_mse', max_depth=4,\n",
              "                              random_state=RandomState(MT19937) at 0x7A26A6623640)],\n",
              "       [DecisionTreeRegressor(criterion='friedman_mse', max_depth=4,\n",
              "                              random_state=RandomState(MT19937) at 0x7A26A6623640)],\n",
              "       [DecisionTreeRegressor(criterion='friedman_mse', max_depth=4,\n",
              "                              random_state=RandomState(MT19937) at 0x7A26A6623640)],\n",
              "       [DecisionTreeRegressor(criterion='friedman_mse', max_depth=4,\n",
              "                              random_state=RandomState(MT19937) at 0x7A26A6623640)],\n",
              "       [DecisionTreeRegressor(criterion='friedman_mse', max_depth=4,\n",
              "                              random_state=RandomState(MT19937) at 0x7A26A6623640)],\n",
              "       [DecisionTreeRegressor(criterion='friedman_mse', max_depth=4,\n",
              "                              random_state=RandomState(MT19937) at 0x7A26A6623640)],\n",
              "       [DecisionTreeRegressor(criterion='friedman_mse', max_depth=4,\n",
              "                              random_state=RandomState(MT19937) at 0x7A26A6623640)],\n",
              "       [DecisionTreeRegressor(criterion='friedman_mse', max_depth=4,\n",
              "                              random_state=RandomState(MT19937) at 0x7A26A6623640)],\n",
              "       [DecisionTreeRegressor(criterion='friedman_mse', max_depth=4,\n",
              "                              random_state=RandomState(MT19937) at 0x7A26A6623640)],\n",
              "       [DecisionTreeRegressor(criterion='friedman_mse', max_depth=4,\n",
              "                              random_state=RandomState(MT19937) at 0x7A26A6623640)],\n",
              "       [DecisionTreeRegressor(criterion='friedman_mse', max_depth=4,\n",
              "                              random_state=RandomState(MT19937) at 0x7A26A6623640)],\n",
              "       [DecisionTreeRegressor(criterion='friedman_mse', max_depth=4,\n",
              "                              random_state=RandomState(MT19937) at 0x7A26A6623640)],\n",
              "       [DecisionTreeRegressor(criterion='friedman_mse', max_depth=4,\n",
              "                              random_state=RandomState(MT19937) at 0x7A26A6623640)],\n",
              "       [DecisionTreeRegressor(criterion='friedman_mse', max_depth=4,\n",
              "                              random_state=RandomState(MT19937) at 0x7A26A6623640)],\n",
              "       [DecisionTreeRegressor(criterion='friedman_mse', max_depth=4,\n",
              "                              random_state=RandomState(MT19937) at 0x7A26A6623640)],\n",
              "       [DecisionTreeRegressor(criterion='friedman_mse', max_depth=4,\n",
              "                              random_state=RandomState(MT19937) at 0x7A26A6623640)],\n",
              "       [DecisionTreeRegressor(criterion='friedman_mse', max_depth=4,\n",
              "                              random_state=RandomState(MT19937) at 0x7A26A6623640)],\n",
              "       [DecisionTreeRegressor(criterion='friedman_mse', max_depth=4,\n",
              "                              random_state=RandomState(MT19937) at 0x7A26A6623640)],\n",
              "       [DecisionTreeRegressor(criterion='friedman_mse', max_depth=4,\n",
              "                              random_state=RandomState(MT19937) at 0x7A26A6623640)],\n",
              "       [DecisionTreeRegressor(criterion='friedman_mse', max_depth=4,\n",
              "                              random_state=RandomState(MT19937) at 0x7A26A6623640)],\n",
              "       [DecisionTreeRegressor(criterion='friedman_mse', max_depth=4,\n",
              "                              random_state=RandomState(MT19937) at 0x7A26A6623640)],\n",
              "       [DecisionTreeRegressor(criterion='friedman_mse', max_depth=4,\n",
              "                              random_state=RandomState(MT19937) at 0x7A26A6623640)],\n",
              "       [DecisionTreeRegressor(criterion='friedman_mse', max_depth=4,\n",
              "                              random_state=RandomState(MT19937) at 0x7A26A6623640)],\n",
              "       [DecisionTreeRegressor(criterion='friedman_mse', max_depth=4,\n",
              "                              random_state=RandomState(MT19937) at 0x7A26A6623640)],\n",
              "       [DecisionTreeRegressor(criterion='friedman_mse', max_depth=4,\n",
              "                              random_state=RandomState(MT19937) at 0x7A26A6623640)],\n",
              "       [DecisionTreeRegressor(criterion='friedman_mse', max_depth=4,\n",
              "                              random_state=RandomState(MT19937) at 0x7A26A6623640)],\n",
              "       [DecisionTreeRegressor(criterion='friedman_mse', max_depth=4,\n",
              "                              random_state=RandomState(MT19937) at 0x7A26A6623640)],\n",
              "       [DecisionTreeRegressor(criterion='friedman_mse', max_depth=4,\n",
              "                              random_state=RandomState(MT19937) at 0x7A26A6623640)],\n",
              "       [DecisionTreeRegressor(criterion='friedman_mse', max_depth=4,\n",
              "                              random_state=RandomState(MT19937) at 0x7A26A6623640)],\n",
              "       [DecisionTreeRegressor(criterion='friedman_mse', max_depth=4,\n",
              "                              random_state=RandomState(MT19937) at 0x7A26A6623640)],\n",
              "       [DecisionTreeRegressor(criterion='friedman_mse', max_depth=4,\n",
              "                              random_state=RandomState(MT19937) at 0x7A26A6623640)],\n",
              "       [DecisionTreeRegressor(criterion='friedman_mse', max_depth=4,\n",
              "                              random_state=RandomState(MT19937) at 0x7A26A6623640)],\n",
              "       [DecisionTreeRegressor(criterion='friedman_mse', max_depth=4,\n",
              "                              random_state=RandomState(MT19937) at 0x7A26A6623640)],\n",
              "       [DecisionTreeRegressor(criterion='friedman_mse', max_depth=4,\n",
              "                              random_state=RandomState(MT19937) at 0x7A26A6623640)],\n",
              "       [DecisionTreeRegressor(criterion='friedman_mse', max_depth=4,\n",
              "                              random_state=RandomState(MT19937) at 0x7A26A6623640)],\n",
              "       [DecisionTreeRegressor(criterion='friedman_mse', max_depth=4,\n",
              "                              random_state=RandomState(MT19937) at 0x7A26A6623640)],\n",
              "       [DecisionTreeRegressor(criterion='friedman_mse', max_depth=4,\n",
              "                              random_state=RandomState(MT19937) at 0x7A26A6623640)],\n",
              "       [DecisionTreeRegressor(criterion='friedman_mse', max_depth=4,\n",
              "                              random_state=RandomState(MT19937) at 0x7A26A6623640)],\n",
              "       [DecisionTreeRegressor(criterion='friedman_mse', max_depth=4,\n",
              "                              random_state=RandomState(MT19937) at 0x7A26A6623640)],\n",
              "       [DecisionTreeRegressor(criterion='friedman_mse', max_depth=4,\n",
              "                              random_state=RandomState(MT19937) at 0x7A26A6623640)],\n",
              "       [DecisionTreeRegressor(criterion='friedman_mse', max_depth=4,\n",
              "                              random_state=RandomState(MT19937) at 0x7A26A6623640)],\n",
              "       [DecisionTreeRegressor(criterion='friedman_mse', max_depth=4,\n",
              "                              random_state=RandomState(MT19937) at 0x7A26A6623640)],\n",
              "       [DecisionTreeRegressor(criterion='friedman_mse', max_depth=4,\n",
              "                              random_state=RandomState(MT19937) at 0x7A26A6623640)],\n",
              "       [DecisionTreeRegressor(criterion='friedman_mse', max_depth=4,\n",
              "                              random_state=RandomState(MT19937) at 0x7A26A6623640)],\n",
              "       [DecisionTreeRegressor(criterion='friedman_mse', max_depth=4,\n",
              "                              random_state=RandomState(MT19937) at 0x7A26A6623640)],\n",
              "       [DecisionTreeRegressor(criterion='friedman_mse', max_depth=4,\n",
              "                              random_state=RandomState(MT19937) at 0x7A26A6623640)],\n",
              "       [DecisionTreeRegressor(criterion='friedman_mse', max_depth=4,\n",
              "                              random_state=RandomState(MT19937) at 0x7A26A6623640)],\n",
              "       [DecisionTreeRegressor(criterion='friedman_mse', max_depth=4,\n",
              "                              random_state=RandomState(MT19937) at 0x7A26A6623640)],\n",
              "       [DecisionTreeRegressor(criterion='friedman_mse', max_depth=4,\n",
              "                              random_state=RandomState(MT19937) at 0x7A26A6623640)],\n",
              "       [DecisionTreeRegressor(criterion='friedman_mse', max_depth=4,\n",
              "                              random_state=RandomState(MT19937) at 0x7A26A6623640)],\n",
              "       [DecisionTreeRegressor(criterion='friedman_mse', max_depth=4,\n",
              "                              random_state=RandomState(MT19937) at 0x7A26A6623640)],\n",
              "       [DecisionTreeRegressor(criterion='friedman_mse', max_depth=4,\n",
              "                              random_state=RandomState(MT19937) at 0x7A26A6623640)],\n",
              "       [DecisionTreeRegressor(criterion='friedman_mse', max_depth=4,\n",
              "                              random_state=RandomState(MT19937) at 0x7A26A6623640)],\n",
              "       [DecisionTreeRegressor(criterion='friedman_mse', max_depth=4,\n",
              "                              random_state=RandomState(MT19937) at 0x7A26A6623640)],\n",
              "       [DecisionTreeRegressor(criterion='friedman_mse', max_depth=4,\n",
              "                              random_state=RandomState(MT19937) at 0x7A26A6623640)],\n",
              "       [DecisionTreeRegressor(criterion='friedman_mse', max_depth=4,\n",
              "                              random_state=RandomState(MT19937) at 0x7A26A6623640)],\n",
              "       [DecisionTreeRegressor(criterion='friedman_mse', max_depth=4,\n",
              "                              random_state=RandomState(MT19937) at 0x7A26A6623640)],\n",
              "       [DecisionTreeRegressor(criterion='friedman_mse', max_depth=4,\n",
              "                              random_state=RandomState(MT19937) at 0x7A26A6623640)],\n",
              "       [DecisionTreeRegressor(criterion='friedman_mse', max_depth=4,\n",
              "                              random_state=RandomState(MT19937) at 0x7A26A6623640)],\n",
              "       [DecisionTreeRegressor(criterion='friedman_mse', max_depth=4,\n",
              "                              random_state=RandomState(MT19937) at 0x7A26A6623640)],\n",
              "       [DecisionTreeRegressor(criterion='friedman_mse', max_depth=4,\n",
              "                              random_state=RandomState(MT19937) at 0x7A26A6623640)],\n",
              "       [DecisionTreeRegressor(criterion='friedman_mse', max_depth=4,\n",
              "                              random_state=RandomState(MT19937) at 0x7A26A6623640)],\n",
              "       [DecisionTreeRegressor(criterion='friedman_mse', max_depth=4,\n",
              "                              random_state=RandomState(MT19937) at 0x7A26A6623640)],\n",
              "       [DecisionTreeRegressor(criterion='friedman_mse', max_depth=4,\n",
              "                              random_state=RandomState(MT19937) at 0x7A26A6623640)],\n",
              "       [DecisionTreeRegressor(criterion='friedman_mse', max_depth=4,\n",
              "                              random_state=RandomState(MT19937) at 0x7A26A6623640)],\n",
              "       [DecisionTreeRegressor(criterion='friedman_mse', max_depth=4,\n",
              "                              random_state=RandomState(MT19937) at 0x7A26A6623640)],\n",
              "       [DecisionTreeRegressor(criterion='friedman_mse', max_depth=4,\n",
              "                              random_state=RandomState(MT19937) at 0x7A26A6623640)],\n",
              "       [DecisionTreeRegressor(criterion='friedman_mse', max_depth=4,\n",
              "                              random_state=RandomState(MT19937) at 0x7A26A6623640)],\n",
              "       [DecisionTreeRegressor(criterion='friedman_mse', max_depth=4,\n",
              "                              random_state=RandomState(MT19937) at 0x7A26A6623640)],\n",
              "       [DecisionTreeRegressor(criterion='friedman_mse', max_depth=4,\n",
              "                              random_state=RandomState(MT19937) at 0x7A26A6623640)],\n",
              "       [DecisionTreeRegressor(criterion='friedman_mse', max_depth=4,\n",
              "                              random_state=RandomState(MT19937) at 0x7A26A6623640)],\n",
              "       [DecisionTreeRegressor(criterion='friedman_mse', max_depth=4,\n",
              "                              random_state=RandomState(MT19937) at 0x7A26A6623640)],\n",
              "       [DecisionTreeRegressor(criterion='friedman_mse', max_depth=4,\n",
              "                              random_state=RandomState(MT19937) at 0x7A26A6623640)],\n",
              "       [DecisionTreeRegressor(criterion='friedman_mse', max_depth=4,\n",
              "                              random_state=RandomState(MT19937) at 0x7A26A6623640)],\n",
              "       [DecisionTreeRegressor(criterion='friedman_mse', max_depth=4,\n",
              "                              random_state=RandomState(MT19937) at 0x7A26A6623640)],\n",
              "       [DecisionTreeRegressor(criterion='friedman_mse', max_depth=4,\n",
              "                              random_state=RandomState(MT19937) at 0x7A26A6623640)],\n",
              "       [DecisionTreeRegressor(criterion='friedman_mse', max_depth=4,\n",
              "                              random_state=RandomState(MT19937) at 0x7A26A6623640)],\n",
              "       [DecisionTreeRegressor(criterion='friedman_mse', max_depth=4,\n",
              "                              random_state=RandomState(MT19937) at 0x7A26A6623640)],\n",
              "       [DecisionTreeRegressor(criterion='friedman_mse', max_depth=4,\n",
              "                              random_state=RandomState(MT19937) at 0x7A26A6623640)],\n",
              "       [DecisionTreeRegressor(criterion='friedman_mse', max_depth=4,\n",
              "                              random_state=RandomState(MT19937) at 0x7A26A6623640)],\n",
              "       [DecisionTreeRegressor(criterion='friedman_mse', max_depth=4,\n",
              "                              random_state=RandomState(MT19937) at 0x7A26A6623640)],\n",
              "       [DecisionTreeRegressor(criterion='friedman_mse', max_depth=4,\n",
              "                              random_state=RandomState(MT19937) at 0x7A26A6623640)],\n",
              "       [DecisionTreeRegressor(criterion='friedman_mse', max_depth=4,\n",
              "                              random_state=RandomState(MT19937) at 0x7A26A6623640)],\n",
              "       [DecisionTreeRegressor(criterion='friedman_mse', max_depth=4,\n",
              "                              random_state=RandomState(MT19937) at 0x7A26A6623640)],\n",
              "       [DecisionTreeRegressor(criterion='friedman_mse', max_depth=4,\n",
              "                              random_state=RandomState(MT19937) at 0x7A26A6623640)],\n",
              "       [DecisionTreeRegressor(criterion='friedman_mse', max_depth=4,\n",
              "                              random_state=RandomState(MT19937) at 0x7A26A6623640)],\n",
              "       [DecisionTreeRegressor(criterion='friedman_mse', max_depth=4,\n",
              "                              random_state=RandomState(MT19937) at 0x7A26A6623640)],\n",
              "       [DecisionTreeRegressor(criterion='friedman_mse', max_depth=4,\n",
              "                              random_state=RandomState(MT19937) at 0x7A26A6623640)],\n",
              "       [DecisionTreeRegressor(criterion='friedman_mse', max_depth=4,\n",
              "                              random_state=RandomState(MT19937) at 0x7A26A6623640)],\n",
              "       [DecisionTreeRegressor(criterion='friedman_mse', max_depth=4,\n",
              "                              random_state=RandomState(MT19937) at 0x7A26A6623640)],\n",
              "       [DecisionTreeRegressor(criterion='friedman_mse', max_depth=4,\n",
              "                              random_state=RandomState(MT19937) at 0x7A26A6623640)],\n",
              "       [DecisionTreeRegressor(criterion='friedman_mse', max_depth=4,\n",
              "                              random_state=RandomState(MT19937) at 0x7A26A6623640)],\n",
              "       [DecisionTreeRegressor(criterion='friedman_mse', max_depth=4,\n",
              "                              random_state=RandomState(MT19937) at 0x7A26A6623640)],\n",
              "       [DecisionTreeRegressor(criterion='friedman_mse', max_depth=4,\n",
              "                              random_state=RandomState(MT19937) at 0x7A26A6623640)],\n",
              "       [DecisionTreeRegressor(criterion='friedman_mse', max_depth=4,\n",
              "                              random_state=RandomState(MT19937) at 0x7A26A6623640)],\n",
              "       [DecisionTreeRegressor(criterion='friedman_mse', max_depth=4,\n",
              "                              random_state=RandomState(MT19937) at 0x7A26A6623640)],\n",
              "       [DecisionTreeRegressor(criterion='friedman_mse', max_depth=4,\n",
              "                              random_state=RandomState(MT19937) at 0x7A26A6623640)],\n",
              "       [DecisionTreeRegressor(criterion='friedman_mse', max_depth=4,\n",
              "                              random_state=RandomState(MT19937) at 0x7A26A6623640)],\n",
              "       [DecisionTreeRegressor(criterion='friedman_mse', max_depth=4,\n",
              "                              random_state=RandomState(MT19937) at 0x7A26A6623640)],\n",
              "       [DecisionTreeRegressor(criterion='friedman_mse', max_depth=4,\n",
              "                              random_state=RandomState(MT19937) at 0x7A26A6623640)],\n",
              "       [DecisionTreeRegressor(criterion='friedman_mse', max_depth=4,\n",
              "                              random_state=RandomState(MT19937) at 0x7A26A6623640)],\n",
              "       [DecisionTreeRegressor(criterion='friedman_mse', max_depth=4,\n",
              "                              random_state=RandomState(MT19937) at 0x7A26A6623640)],\n",
              "       [DecisionTreeRegressor(criterion='friedman_mse', max_depth=4,\n",
              "                              random_state=RandomState(MT19937) at 0x7A26A6623640)],\n",
              "       [DecisionTreeRegressor(criterion='friedman_mse', max_depth=4,\n",
              "                              random_state=RandomState(MT19937) at 0x7A26A6623640)],\n",
              "       [DecisionTreeRegressor(criterion='friedman_mse', max_depth=4,\n",
              "                              random_state=RandomState(MT19937) at 0x7A26A6623640)],\n",
              "       [DecisionTreeRegressor(criterion='friedman_mse', max_depth=4,\n",
              "                              random_state=RandomState(MT19937) at 0x7A26A6623640)],\n",
              "       [DecisionTreeRegressor(criterion='friedman_mse', max_depth=4,\n",
              "                              random_state=RandomState(MT19937) at 0x7A26A6623640)],\n",
              "       [DecisionTreeRegressor(criterion='friedman_mse', max_depth=4,\n",
              "                              random_state=RandomState(MT19937) at 0x7A26A6623640)],\n",
              "       [DecisionTreeRegressor(criterion='friedman_mse', max_depth=4,\n",
              "                              random_state=RandomState(MT19937) at 0x7A26A6623640)],\n",
              "       [DecisionTreeRegressor(criterion='friedman_mse', max_depth=4,\n",
              "                              random_state=RandomState(MT19937) at 0x7A26A6623640)],\n",
              "       [DecisionTreeRegressor(criterion='friedman_mse', max_depth=4,\n",
              "                              random_state=RandomState(MT19937) at 0x7A26A6623640)],\n",
              "       [DecisionTreeRegressor(criterion='friedman_mse', max_depth=4,\n",
              "                              random_state=RandomState(MT19937) at 0x7A26A6623640)],\n",
              "       [DecisionTreeRegressor(criterion='friedman_mse', max_depth=4,\n",
              "                              random_state=RandomState(MT19937) at 0x7A26A6623640)],\n",
              "       [DecisionTreeRegressor(criterion='friedman_mse', max_depth=4,\n",
              "                              random_state=RandomState(MT19937) at 0x7A26A6623640)],\n",
              "       [DecisionTreeRegressor(criterion='friedman_mse', max_depth=4,\n",
              "                              random_state=RandomState(MT19937) at 0x7A26A6623640)],\n",
              "       [DecisionTreeRegressor(criterion='friedman_mse', max_depth=4,\n",
              "                              random_state=RandomState(MT19937) at 0x7A26A6623640)],\n",
              "       [DecisionTreeRegressor(criterion='friedman_mse', max_depth=4,\n",
              "                              random_state=RandomState(MT19937) at 0x7A26A6623640)],\n",
              "       [DecisionTreeRegressor(criterion='friedman_mse', max_depth=4,\n",
              "                              random_state=RandomState(MT19937) at 0x7A26A6623640)],\n",
              "       [DecisionTreeRegressor(criterion='friedman_mse', max_depth=4,\n",
              "                              random_state=RandomState(MT19937) at 0x7A26A6623640)],\n",
              "       [DecisionTreeRegressor(criterion='friedman_mse', max_depth=4,\n",
              "                              random_state=RandomState(MT19937) at 0x7A26A6623640)],\n",
              "       [DecisionTreeRegressor(criterion='friedman_mse', max_depth=4,\n",
              "                              random_state=RandomState(MT19937) at 0x7A26A6623640)],\n",
              "       [DecisionTreeRegressor(criterion='friedman_mse', max_depth=4,\n",
              "                              random_state=RandomState(MT19937) at 0x7A26A6623640)],\n",
              "       [DecisionTreeRegressor(criterion='friedman_mse', max_depth=4,\n",
              "                              random_state=RandomState(MT19937) at 0x7A26A6623640)],\n",
              "       [DecisionTreeRegressor(criterion='friedman_mse', max_depth=4,\n",
              "                              random_state=RandomState(MT19937) at 0x7A26A6623640)],\n",
              "       [DecisionTreeRegressor(criterion='friedman_mse', max_depth=4,\n",
              "                              random_state=RandomState(MT19937) at 0x7A26A6623640)],\n",
              "       [DecisionTreeRegressor(criterion='friedman_mse', max_depth=4,\n",
              "                              random_state=RandomState(MT19937) at 0x7A26A6623640)],\n",
              "       [DecisionTreeRegressor(criterion='friedman_mse', max_depth=4,\n",
              "                              random_state=RandomState(MT19937) at 0x7A26A6623640)],\n",
              "       [DecisionTreeRegressor(criterion='friedman_mse', max_depth=4,\n",
              "                              random_state=RandomState(MT19937) at 0x7A26A6623640)],\n",
              "       [DecisionTreeRegressor(criterion='friedman_mse', max_depth=4,\n",
              "                              random_state=RandomState(MT19937) at 0x7A26A6623640)],\n",
              "       [DecisionTreeRegressor(criterion='friedman_mse', max_depth=4,\n",
              "                              random_state=RandomState(MT19937) at 0x7A26A6623640)],\n",
              "       [DecisionTreeRegressor(criterion='friedman_mse', max_depth=4,\n",
              "                              random_state=RandomState(MT19937) at 0x7A26A6623640)],\n",
              "       [DecisionTreeRegressor(criterion='friedman_mse', max_depth=4,\n",
              "                              random_state=RandomState(MT19937) at 0x7A26A6623640)],\n",
              "       [DecisionTreeRegressor(criterion='friedman_mse', max_depth=4,\n",
              "                              random_state=RandomState(MT19937) at 0x7A26A6623640)],\n",
              "       [DecisionTreeRegressor(criterion='friedman_mse', max_depth=4,\n",
              "                              random_state=RandomState(MT19937) at 0x7A26A6623640)],\n",
              "       [DecisionTreeRegressor(criterion='friedman_mse', max_depth=4,\n",
              "                              random_state=RandomState(MT19937) at 0x7A26A6623640)],\n",
              "       [DecisionTreeRegressor(criterion='friedman_mse', max_depth=4,\n",
              "                              random_state=RandomState(MT19937) at 0x7A26A6623640)],\n",
              "       [DecisionTreeRegressor(criterion='friedman_mse', max_depth=4,\n",
              "                              random_state=RandomState(MT19937) at 0x7A26A6623640)],\n",
              "       [DecisionTreeRegressor(criterion='friedman_mse', max_depth=4,\n",
              "                              random_state=RandomState(MT19937) at 0x7A26A6623640)],\n",
              "       [DecisionTreeRegressor(criterion='friedman_mse', max_depth=4,\n",
              "                              random_state=RandomState(MT19937) at 0x7A26A6623640)],\n",
              "       [DecisionTreeRegressor(criterion='friedman_mse', max_depth=4,\n",
              "                              random_state=RandomState(MT19937) at 0x7A26A6623640)],\n",
              "       [DecisionTreeRegressor(criterion='friedman_mse', max_depth=4,\n",
              "                              random_state=RandomState(MT19937) at 0x7A26A6623640)],\n",
              "       [DecisionTreeRegressor(criterion='friedman_mse', max_depth=4,\n",
              "                              random_state=RandomState(MT19937) at 0x7A26A6623640)],\n",
              "       [DecisionTreeRegressor(criterion='friedman_mse', max_depth=4,\n",
              "                              random_state=RandomState(MT19937) at 0x7A26A6623640)],\n",
              "       [DecisionTreeRegressor(criterion='friedman_mse', max_depth=4,\n",
              "                              random_state=RandomState(MT19937) at 0x7A26A6623640)],\n",
              "       [DecisionTreeRegressor(criterion='friedman_mse', max_depth=4,\n",
              "                              random_state=RandomState(MT19937) at 0x7A26A6623640)],\n",
              "       [DecisionTreeRegressor(criterion='friedman_mse', max_depth=4,\n",
              "                              random_state=RandomState(MT19937) at 0x7A26A6623640)],\n",
              "       [DecisionTreeRegressor(criterion='friedman_mse', max_depth=4,\n",
              "                              random_state=RandomState(MT19937) at 0x7A26A6623640)],\n",
              "       [DecisionTreeRegressor(criterion='friedman_mse', max_depth=4,\n",
              "                              random_state=RandomState(MT19937) at 0x7A26A6623640)],\n",
              "       [DecisionTreeRegressor(criterion='friedman_mse', max_depth=4,\n",
              "                              random_state=RandomState(MT19937) at 0x7A26A6623640)],\n",
              "       [DecisionTreeRegressor(criterion='friedman_mse', max_depth=4,\n",
              "                              random_state=RandomState(MT19937) at 0x7A26A6623640)],\n",
              "       [DecisionTreeRegressor(criterion='friedman_mse', max_depth=4,\n",
              "                              random_state=RandomState(MT19937) at 0x7A26A6623640)],\n",
              "       [DecisionTreeRegressor(criterion='friedman_mse', max_depth=4,\n",
              "                              random_state=RandomState(MT19937) at 0x7A26A6623640)],\n",
              "       [DecisionTreeRegressor(criterion='friedman_mse', max_depth=4,\n",
              "                              random_state=RandomState(MT19937) at 0x7A26A6623640)],\n",
              "       [DecisionTreeRegressor(criterion='friedman_mse', max_depth=4,\n",
              "                              random_state=RandomState(MT19937) at 0x7A26A6623640)],\n",
              "       [DecisionTreeRegressor(criterion='friedman_mse', max_depth=4,\n",
              "                              random_state=RandomState(MT19937) at 0x7A26A6623640)],\n",
              "       [DecisionTreeRegressor(criterion='friedman_mse', max_depth=4,\n",
              "                              random_state=RandomState(MT19937) at 0x7A26A6623640)],\n",
              "       [DecisionTreeRegressor(criterion='friedman_mse', max_depth=4,\n",
              "                              random_state=RandomState(MT19937) at 0x7A26A6623640)],\n",
              "       [DecisionTreeRegressor(criterion='friedman_mse', max_depth=4,\n",
              "                              random_state=RandomState(MT19937) at 0x7A26A6623640)],\n",
              "       [DecisionTreeRegressor(criterion='friedman_mse', max_depth=4,\n",
              "                              random_state=RandomState(MT19937) at 0x7A26A6623640)],\n",
              "       [DecisionTreeRegressor(criterion='friedman_mse', max_depth=4,\n",
              "                              random_state=RandomState(MT19937) at 0x7A26A6623640)],\n",
              "       [DecisionTreeRegressor(criterion='friedman_mse', max_depth=4,\n",
              "                              random_state=RandomState(MT19937) at 0x7A26A6623640)],\n",
              "       [DecisionTreeRegressor(criterion='friedman_mse', max_depth=4,\n",
              "                              random_state=RandomState(MT19937) at 0x7A26A6623640)],\n",
              "       [DecisionTreeRegressor(criterion='friedman_mse', max_depth=4,\n",
              "                              random_state=RandomState(MT19937) at 0x7A26A6623640)],\n",
              "       [DecisionTreeRegressor(criterion='friedman_mse', max_depth=4,\n",
              "                              random_state=RandomState(MT19937) at 0x7A26A6623640)],\n",
              "       [DecisionTreeRegressor(criterion='friedman_mse', max_depth=4,\n",
              "                              random_state=RandomState(MT19937) at 0x7A26A6623640)],\n",
              "       [DecisionTreeRegressor(criterion='friedman_mse', max_depth=4,\n",
              "                              random_state=RandomState(MT19937) at 0x7A26A6623640)],\n",
              "       [DecisionTreeRegressor(criterion='friedman_mse', max_depth=4,\n",
              "                              random_state=RandomState(MT19937) at 0x7A26A6623640)],\n",
              "       [DecisionTreeRegressor(criterion='friedman_mse', max_depth=4,\n",
              "                              random_state=RandomState(MT19937) at 0x7A26A6623640)],\n",
              "       [DecisionTreeRegressor(criterion='friedman_mse', max_depth=4,\n",
              "                              random_state=RandomState(MT19937) at 0x7A26A6623640)],\n",
              "       [DecisionTreeRegressor(criterion='friedman_mse', max_depth=4,\n",
              "                              random_state=RandomState(MT19937) at 0x7A26A6623640)],\n",
              "       [DecisionTreeRegressor(criterion='friedman_mse', max_depth=4,\n",
              "                              random_state=RandomState(MT19937) at 0x7A26A6623640)],\n",
              "       [DecisionTreeRegressor(criterion='friedman_mse', max_depth=4,\n",
              "                              random_state=RandomState(MT19937) at 0x7A26A6623640)],\n",
              "       [DecisionTreeRegressor(criterion='friedman_mse', max_depth=4,\n",
              "                              random_state=RandomState(MT19937) at 0x7A26A6623640)],\n",
              "       [DecisionTreeRegressor(criterion='friedman_mse', max_depth=4,\n",
              "                              random_state=RandomState(MT19937) at 0x7A26A6623640)],\n",
              "       [DecisionTreeRegressor(criterion='friedman_mse', max_depth=4,\n",
              "                              random_state=RandomState(MT19937) at 0x7A26A6623640)],\n",
              "       [DecisionTreeRegressor(criterion='friedman_mse', max_depth=4,\n",
              "                              random_state=RandomState(MT19937) at 0x7A26A6623640)],\n",
              "       [DecisionTreeRegressor(criterion='friedman_mse', max_depth=4,\n",
              "                              random_state=RandomState(MT19937) at 0x7A26A6623640)],\n",
              "       [DecisionTreeRegressor(criterion='friedman_mse', max_depth=4,\n",
              "                              random_state=RandomState(MT19937) at 0x7A26A6623640)],\n",
              "       [DecisionTreeRegressor(criterion='friedman_mse', max_depth=4,\n",
              "                              random_state=RandomState(MT19937) at 0x7A26A6623640)],\n",
              "       [DecisionTreeRegressor(criterion='friedman_mse', max_depth=4,\n",
              "                              random_state=RandomState(MT19937) at 0x7A26A6623640)],\n",
              "       [DecisionTreeRegressor(criterion='friedman_mse', max_depth=4,\n",
              "                              random_state=RandomState(MT19937) at 0x7A26A6623640)],\n",
              "       [DecisionTreeRegressor(criterion='friedman_mse', max_depth=4,\n",
              "                              random_state=RandomState(MT19937) at 0x7A26A6623640)],\n",
              "       [DecisionTreeRegressor(criterion='friedman_mse', max_depth=4,\n",
              "                              random_state=RandomState(MT19937) at 0x7A26A6623640)],\n",
              "       [DecisionTreeRegressor(criterion='friedman_mse', max_depth=4,\n",
              "                              random_state=RandomState(MT19937) at 0x7A26A6623640)],\n",
              "       [DecisionTreeRegressor(criterion='friedman_mse', max_depth=4,\n",
              "                              random_state=RandomState(MT19937) at 0x7A26A6623640)],\n",
              "       [DecisionTreeRegressor(criterion='friedman_mse', max_depth=4,\n",
              "                              random_state=RandomState(MT19937) at 0x7A26A6623640)],\n",
              "       [DecisionTreeRegressor(criterion='friedman_mse', max_depth=4,\n",
              "                              random_state=RandomState(MT19937) at 0x7A26A6623640)],\n",
              "       [DecisionTreeRegressor(criterion='friedman_mse', max_depth=4,\n",
              "                              random_state=RandomState(MT19937) at 0x7A26A6623640)],\n",
              "       [DecisionTreeRegressor(criterion='friedman_mse', max_depth=4,\n",
              "                              random_state=RandomState(MT19937) at 0x7A26A6623640)],\n",
              "       [DecisionTreeRegressor(criterion='friedman_mse', max_depth=4,\n",
              "                              random_state=RandomState(MT19937) at 0x7A26A6623640)],\n",
              "       [DecisionTreeRegressor(criterion='friedman_mse', max_depth=4,\n",
              "                              random_state=RandomState(MT19937) at 0x7A26A6623640)],\n",
              "       [DecisionTreeRegressor(criterion='friedman_mse', max_depth=4,\n",
              "                              random_state=RandomState(MT19937) at 0x7A26A6623640)],\n",
              "       [DecisionTreeRegressor(criterion='friedman_mse', max_depth=4,\n",
              "                              random_state=RandomState(MT19937) at 0x7A26A6623640)],\n",
              "       [DecisionTreeRegressor(criterion='friedman_mse', max_depth=4,\n",
              "                              random_state=RandomState(MT19937) at 0x7A26A6623640)],\n",
              "       [DecisionTreeRegressor(criterion='friedman_mse', max_depth=4,\n",
              "                              random_state=RandomState(MT19937) at 0x7A26A6623640)],\n",
              "       [DecisionTreeRegressor(criterion='friedman_mse', max_depth=4,\n",
              "                              random_state=RandomState(MT19937) at 0x7A26A6623640)],\n",
              "       [DecisionTreeRegressor(criterion='friedman_mse', max_depth=4,\n",
              "                              random_state=RandomState(MT19937) at 0x7A26A6623640)],\n",
              "       [DecisionTreeRegressor(criterion='friedman_mse', max_depth=4,\n",
              "                              random_state=RandomState(MT19937) at 0x7A26A6623640)],\n",
              "       [DecisionTreeRegressor(criterion='friedman_mse', max_depth=4,\n",
              "                              random_state=RandomState(MT19937) at 0x7A26A6623640)],\n",
              "       [DecisionTreeRegressor(criterion='friedman_mse', max_depth=4,\n",
              "                              random_state=RandomState(MT19937) at 0x7A26A6623640)],\n",
              "       [DecisionTreeRegressor(criterion='friedman_mse', max_depth=4,\n",
              "                              random_state=RandomState(MT19937) at 0x7A26A6623640)],\n",
              "       [DecisionTreeRegressor(criterion='friedman_mse', max_depth=4,\n",
              "                              random_state=RandomState(MT19937) at 0x7A26A6623640)],\n",
              "       [DecisionTreeRegressor(criterion='friedman_mse', max_depth=4,\n",
              "                              random_state=RandomState(MT19937) at 0x7A26A6623640)],\n",
              "       [DecisionTreeRegressor(criterion='friedman_mse', max_depth=4,\n",
              "                              random_state=RandomState(MT19937) at 0x7A26A6623640)],\n",
              "       [DecisionTreeRegressor(criterion='friedman_mse', max_depth=4,\n",
              "                              random_state=RandomState(MT19937) at 0x7A26A6623640)],\n",
              "       [DecisionTreeRegressor(criterion='friedman_mse', max_depth=4,\n",
              "                              random_state=RandomState(MT19937) at 0x7A26A6623640)],\n",
              "       [DecisionTreeRegressor(criterion='friedman_mse', max_depth=4,\n",
              "                              random_state=RandomState(MT19937) at 0x7A26A6623640)],\n",
              "       [DecisionTreeRegressor(criterion='friedman_mse', max_depth=4,\n",
              "                              random_state=RandomState(MT19937) at 0x7A26A6623640)],\n",
              "       [DecisionTreeRegressor(criterion='friedman_mse', max_depth=4,\n",
              "                              random_state=RandomState(MT19937) at 0x7A26A6623640)],\n",
              "       [DecisionTreeRegressor(criterion='friedman_mse', max_depth=4,\n",
              "                              random_state=RandomState(MT19937) at 0x7A26A6623640)],\n",
              "       [DecisionTreeRegressor(criterion='friedman_mse', max_depth=4,\n",
              "                              random_state=RandomState(MT19937) at 0x7A26A6623640)],\n",
              "       [DecisionTreeRegressor(criterion='friedman_mse', max_depth=4,\n",
              "                              random_state=RandomState(MT19937) at 0x7A26A6623640)],\n",
              "       [DecisionTreeRegressor(criterion='friedman_mse', max_depth=4,\n",
              "                              random_state=RandomState(MT19937) at 0x7A26A6623640)]],\n",
              "      dtype=object)"
            ]
          },
          "metadata": {},
          "execution_count": 42
        }
      ]
    }
  ]
}